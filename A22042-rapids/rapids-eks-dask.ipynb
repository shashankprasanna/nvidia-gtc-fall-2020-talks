{
 "cells": [
  {
   "cell_type": "code",
   "execution_count": 1,
   "metadata": {},
   "outputs": [],
   "source": [
    "import cudf, cuml, cupy, dask_cudf    \n",
    "from cuml.metrics import accuracy_score as cuml_accuracy_score\n",
    "from cuml.dask.common.utils import persist_across_workers\n",
    "import xgboost\n",
    "import dask\n",
    "import time, sys, os, argparse\n",
    "import glob, json, pprint, joblib\n",
    "from dask.distributed import wait, Client\n",
    "import warnings; warnings.filterwarnings(\"ignore\")\n",
    "\n",
    "from dask_ml.model_selection import train_test_split\n",
    "from cuml.dask.common.utils import persist_across_workers"
   ]
  },
  {
   "cell_type": "code",
   "execution_count": 3,
   "metadata": {},
   "outputs": [
    {
     "data": {
      "text/html": [
       "<table style=\"border: 2px solid white;\">\n",
       "<tr>\n",
       "<td style=\"vertical-align: top; border: 0px solid white\">\n",
       "<h3 style=\"text-align: left;\">Client</h3>\n",
       "<ul style=\"text-align: left; list-style: none; margin: 0; padding: 0;\">\n",
       "  <li><b>Scheduler: </b>tcp://a3d51b0a71fb14120825543f299d328e-83594755.us-west-2.elb.amazonaws.com:8786</li>\n",
       "  <li><b>Dashboard: </b><a href='/proxy/rapidsai-scheduler:8787/status' target='_blank'>/proxy/rapidsai-scheduler:8787/status</a></li>\n",
       "</ul>\n",
       "</td>\n",
       "<td style=\"vertical-align: top; border: 0px solid white\">\n",
       "<h3 style=\"text-align: left;\">Cluster</h3>\n",
       "<ul style=\"text-align: left; list-style:none; margin: 0; padding: 0;\">\n",
       "  <li><b>Workers: </b>7</li>\n",
       "  <li><b>Cores: </b>42</li>\n",
       "  <li><b>Memory: </b>350.00 GB</li>\n",
       "</ul>\n",
       "</td>\n",
       "</tr>\n",
       "</table>"
      ],
      "text/plain": [
       "<Client: 'tcp://192.168.69.253:8786' processes=0 threads=0, memory=0 B>"
      ]
     },
     "execution_count": 3,
     "metadata": {},
     "output_type": "execute_result"
    }
   ],
   "source": [
    "from dask.distributed import Client\n",
    "client = Client('a3d51b0a71fb14120825543f299d328e-83594755.us-west-2.elb.amazonaws.com:8786')\n",
    "client.restart()"
   ]
  },
  {
   "cell_type": "code",
   "execution_count": 4,
   "metadata": {},
   "outputs": [
    {
     "data": {
      "text/plain": [
       "['tcp://192.168.17.137:35391',\n",
       " 'tcp://192.168.19.182:39897',\n",
       " 'tcp://192.168.28.129:33319',\n",
       " 'tcp://192.168.4.228:33047',\n",
       " 'tcp://192.168.70.245:35999',\n",
       " 'tcp://192.168.72.160:35135',\n",
       " 'tcp://192.168.93.101:45601']"
      ]
     },
     "metadata": {},
     "output_type": "display_data"
    }
   ],
   "source": [
    "# Query the client for all connected workers\n",
    "workers = client.has_what().keys()\n",
    "n_workers = len(workers)\n",
    "n_streams = 8 # Performance optimization\n",
    "worker_list = list(workers)\n",
    "display(worker_list)"
   ]
  },
  {
   "cell_type": "code",
   "execution_count": 5,
   "metadata": {
    "scrolled": true
   },
   "outputs": [
    {
     "data": {
      "text/plain": [
       "['sagemaker-rapids-hpo-us-west-2/10_year/_common_metadata',\n",
       " 'sagemaker-rapids-hpo-us-west-2/10_year/_metadata',\n",
       " 'sagemaker-rapids-hpo-us-west-2/10_year/part.0.parquet',\n",
       " 'sagemaker-rapids-hpo-us-west-2/10_year/part.1.parquet',\n",
       " 'sagemaker-rapids-hpo-us-west-2/10_year/part.10.parquet',\n",
       " 'sagemaker-rapids-hpo-us-west-2/10_year/part.100.parquet',\n",
       " 'sagemaker-rapids-hpo-us-west-2/10_year/part.101.parquet',\n",
       " 'sagemaker-rapids-hpo-us-west-2/10_year/part.102.parquet',\n",
       " 'sagemaker-rapids-hpo-us-west-2/10_year/part.103.parquet',\n",
       " 'sagemaker-rapids-hpo-us-west-2/10_year/part.104.parquet',\n",
       " 'sagemaker-rapids-hpo-us-west-2/10_year/part.105.parquet',\n",
       " 'sagemaker-rapids-hpo-us-west-2/10_year/part.106.parquet',\n",
       " 'sagemaker-rapids-hpo-us-west-2/10_year/part.107.parquet',\n",
       " 'sagemaker-rapids-hpo-us-west-2/10_year/part.108.parquet',\n",
       " 'sagemaker-rapids-hpo-us-west-2/10_year/part.109.parquet',\n",
       " 'sagemaker-rapids-hpo-us-west-2/10_year/part.11.parquet',\n",
       " 'sagemaker-rapids-hpo-us-west-2/10_year/part.110.parquet',\n",
       " 'sagemaker-rapids-hpo-us-west-2/10_year/part.111.parquet',\n",
       " 'sagemaker-rapids-hpo-us-west-2/10_year/part.112.parquet',\n",
       " 'sagemaker-rapids-hpo-us-west-2/10_year/part.113.parquet',\n",
       " 'sagemaker-rapids-hpo-us-west-2/10_year/part.114.parquet',\n",
       " 'sagemaker-rapids-hpo-us-west-2/10_year/part.115.parquet',\n",
       " 'sagemaker-rapids-hpo-us-west-2/10_year/part.116.parquet',\n",
       " 'sagemaker-rapids-hpo-us-west-2/10_year/part.117.parquet',\n",
       " 'sagemaker-rapids-hpo-us-west-2/10_year/part.118.parquet',\n",
       " 'sagemaker-rapids-hpo-us-west-2/10_year/part.119.parquet',\n",
       " 'sagemaker-rapids-hpo-us-west-2/10_year/part.12.parquet',\n",
       " 'sagemaker-rapids-hpo-us-west-2/10_year/part.120.parquet',\n",
       " 'sagemaker-rapids-hpo-us-west-2/10_year/part.13.parquet',\n",
       " 'sagemaker-rapids-hpo-us-west-2/10_year/part.14.parquet',\n",
       " 'sagemaker-rapids-hpo-us-west-2/10_year/part.15.parquet',\n",
       " 'sagemaker-rapids-hpo-us-west-2/10_year/part.16.parquet',\n",
       " 'sagemaker-rapids-hpo-us-west-2/10_year/part.17.parquet',\n",
       " 'sagemaker-rapids-hpo-us-west-2/10_year/part.18.parquet',\n",
       " 'sagemaker-rapids-hpo-us-west-2/10_year/part.19.parquet',\n",
       " 'sagemaker-rapids-hpo-us-west-2/10_year/part.2.parquet',\n",
       " 'sagemaker-rapids-hpo-us-west-2/10_year/part.20.parquet',\n",
       " 'sagemaker-rapids-hpo-us-west-2/10_year/part.21.parquet',\n",
       " 'sagemaker-rapids-hpo-us-west-2/10_year/part.22.parquet',\n",
       " 'sagemaker-rapids-hpo-us-west-2/10_year/part.23.parquet',\n",
       " 'sagemaker-rapids-hpo-us-west-2/10_year/part.24.parquet',\n",
       " 'sagemaker-rapids-hpo-us-west-2/10_year/part.25.parquet',\n",
       " 'sagemaker-rapids-hpo-us-west-2/10_year/part.26.parquet',\n",
       " 'sagemaker-rapids-hpo-us-west-2/10_year/part.27.parquet',\n",
       " 'sagemaker-rapids-hpo-us-west-2/10_year/part.28.parquet',\n",
       " 'sagemaker-rapids-hpo-us-west-2/10_year/part.29.parquet',\n",
       " 'sagemaker-rapids-hpo-us-west-2/10_year/part.3.parquet',\n",
       " 'sagemaker-rapids-hpo-us-west-2/10_year/part.30.parquet',\n",
       " 'sagemaker-rapids-hpo-us-west-2/10_year/part.31.parquet',\n",
       " 'sagemaker-rapids-hpo-us-west-2/10_year/part.32.parquet',\n",
       " 'sagemaker-rapids-hpo-us-west-2/10_year/part.33.parquet',\n",
       " 'sagemaker-rapids-hpo-us-west-2/10_year/part.34.parquet',\n",
       " 'sagemaker-rapids-hpo-us-west-2/10_year/part.35.parquet',\n",
       " 'sagemaker-rapids-hpo-us-west-2/10_year/part.36.parquet',\n",
       " 'sagemaker-rapids-hpo-us-west-2/10_year/part.37.parquet',\n",
       " 'sagemaker-rapids-hpo-us-west-2/10_year/part.38.parquet',\n",
       " 'sagemaker-rapids-hpo-us-west-2/10_year/part.39.parquet',\n",
       " 'sagemaker-rapids-hpo-us-west-2/10_year/part.4.parquet',\n",
       " 'sagemaker-rapids-hpo-us-west-2/10_year/part.40.parquet',\n",
       " 'sagemaker-rapids-hpo-us-west-2/10_year/part.41.parquet',\n",
       " 'sagemaker-rapids-hpo-us-west-2/10_year/part.42.parquet',\n",
       " 'sagemaker-rapids-hpo-us-west-2/10_year/part.43.parquet',\n",
       " 'sagemaker-rapids-hpo-us-west-2/10_year/part.44.parquet',\n",
       " 'sagemaker-rapids-hpo-us-west-2/10_year/part.45.parquet',\n",
       " 'sagemaker-rapids-hpo-us-west-2/10_year/part.46.parquet',\n",
       " 'sagemaker-rapids-hpo-us-west-2/10_year/part.47.parquet',\n",
       " 'sagemaker-rapids-hpo-us-west-2/10_year/part.48.parquet',\n",
       " 'sagemaker-rapids-hpo-us-west-2/10_year/part.49.parquet',\n",
       " 'sagemaker-rapids-hpo-us-west-2/10_year/part.5.parquet',\n",
       " 'sagemaker-rapids-hpo-us-west-2/10_year/part.50.parquet',\n",
       " 'sagemaker-rapids-hpo-us-west-2/10_year/part.51.parquet',\n",
       " 'sagemaker-rapids-hpo-us-west-2/10_year/part.52.parquet',\n",
       " 'sagemaker-rapids-hpo-us-west-2/10_year/part.53.parquet',\n",
       " 'sagemaker-rapids-hpo-us-west-2/10_year/part.54.parquet',\n",
       " 'sagemaker-rapids-hpo-us-west-2/10_year/part.55.parquet',\n",
       " 'sagemaker-rapids-hpo-us-west-2/10_year/part.56.parquet',\n",
       " 'sagemaker-rapids-hpo-us-west-2/10_year/part.57.parquet',\n",
       " 'sagemaker-rapids-hpo-us-west-2/10_year/part.58.parquet',\n",
       " 'sagemaker-rapids-hpo-us-west-2/10_year/part.59.parquet',\n",
       " 'sagemaker-rapids-hpo-us-west-2/10_year/part.6.parquet',\n",
       " 'sagemaker-rapids-hpo-us-west-2/10_year/part.60.parquet',\n",
       " 'sagemaker-rapids-hpo-us-west-2/10_year/part.61.parquet',\n",
       " 'sagemaker-rapids-hpo-us-west-2/10_year/part.62.parquet',\n",
       " 'sagemaker-rapids-hpo-us-west-2/10_year/part.63.parquet',\n",
       " 'sagemaker-rapids-hpo-us-west-2/10_year/part.64.parquet',\n",
       " 'sagemaker-rapids-hpo-us-west-2/10_year/part.65.parquet',\n",
       " 'sagemaker-rapids-hpo-us-west-2/10_year/part.66.parquet',\n",
       " 'sagemaker-rapids-hpo-us-west-2/10_year/part.67.parquet',\n",
       " 'sagemaker-rapids-hpo-us-west-2/10_year/part.68.parquet',\n",
       " 'sagemaker-rapids-hpo-us-west-2/10_year/part.69.parquet',\n",
       " 'sagemaker-rapids-hpo-us-west-2/10_year/part.7.parquet',\n",
       " 'sagemaker-rapids-hpo-us-west-2/10_year/part.70.parquet',\n",
       " 'sagemaker-rapids-hpo-us-west-2/10_year/part.71.parquet',\n",
       " 'sagemaker-rapids-hpo-us-west-2/10_year/part.72.parquet',\n",
       " 'sagemaker-rapids-hpo-us-west-2/10_year/part.73.parquet',\n",
       " 'sagemaker-rapids-hpo-us-west-2/10_year/part.74.parquet',\n",
       " 'sagemaker-rapids-hpo-us-west-2/10_year/part.75.parquet',\n",
       " 'sagemaker-rapids-hpo-us-west-2/10_year/part.76.parquet',\n",
       " 'sagemaker-rapids-hpo-us-west-2/10_year/part.77.parquet',\n",
       " 'sagemaker-rapids-hpo-us-west-2/10_year/part.78.parquet',\n",
       " 'sagemaker-rapids-hpo-us-west-2/10_year/part.79.parquet',\n",
       " 'sagemaker-rapids-hpo-us-west-2/10_year/part.8.parquet',\n",
       " 'sagemaker-rapids-hpo-us-west-2/10_year/part.80.parquet',\n",
       " 'sagemaker-rapids-hpo-us-west-2/10_year/part.81.parquet',\n",
       " 'sagemaker-rapids-hpo-us-west-2/10_year/part.82.parquet',\n",
       " 'sagemaker-rapids-hpo-us-west-2/10_year/part.83.parquet',\n",
       " 'sagemaker-rapids-hpo-us-west-2/10_year/part.84.parquet',\n",
       " 'sagemaker-rapids-hpo-us-west-2/10_year/part.85.parquet',\n",
       " 'sagemaker-rapids-hpo-us-west-2/10_year/part.86.parquet',\n",
       " 'sagemaker-rapids-hpo-us-west-2/10_year/part.87.parquet',\n",
       " 'sagemaker-rapids-hpo-us-west-2/10_year/part.88.parquet',\n",
       " 'sagemaker-rapids-hpo-us-west-2/10_year/part.89.parquet',\n",
       " 'sagemaker-rapids-hpo-us-west-2/10_year/part.9.parquet',\n",
       " 'sagemaker-rapids-hpo-us-west-2/10_year/part.90.parquet',\n",
       " 'sagemaker-rapids-hpo-us-west-2/10_year/part.91.parquet',\n",
       " 'sagemaker-rapids-hpo-us-west-2/10_year/part.92.parquet',\n",
       " 'sagemaker-rapids-hpo-us-west-2/10_year/part.93.parquet',\n",
       " 'sagemaker-rapids-hpo-us-west-2/10_year/part.94.parquet',\n",
       " 'sagemaker-rapids-hpo-us-west-2/10_year/part.95.parquet',\n",
       " 'sagemaker-rapids-hpo-us-west-2/10_year/part.96.parquet',\n",
       " 'sagemaker-rapids-hpo-us-west-2/10_year/part.97.parquet',\n",
       " 'sagemaker-rapids-hpo-us-west-2/10_year/part.98.parquet',\n",
       " 'sagemaker-rapids-hpo-us-west-2/10_year/part.99.parquet']"
      ]
     },
     "execution_count": 5,
     "metadata": {},
     "output_type": "execute_result"
    }
   ],
   "source": [
    "from s3fs import S3FileSystem\n",
    "s3 = S3FileSystem(anon=True)\n",
    "s3.ls('s3://sagemaker-rapids-hpo-us-west-2/10_year/')"
   ]
  },
  {
   "cell_type": "code",
   "execution_count": 6,
   "metadata": {},
   "outputs": [],
   "source": [
    "dataset_feature_columns = [ 'Year', 'Quarter', 'Month', 'DayOfWeek', \n",
    "                            'Flight_Number_Reporting_Airline', 'DOT_ID_Reporting_Airline',\n",
    "                            'OriginCityMarketID', 'DestCityMarketID',\n",
    "                            'DepTime', 'DepDelay', 'DepDel15', 'ArrDel15',\n",
    "                            'AirTime', 'Distance' ]\n",
    "\n",
    "# target_files = glob.glob('datasets/1_year/*.parquet')\n",
    "# n_datafiles = len(target_files)\n",
    "# dataset = dask_cudf.read_parquet(target_files, dataset_feature_columns)\n",
    "\n",
    "dataset = dask_cudf.read_parquet('s3://sagemaker-rapids-hpo-us-west-2/10_year/*.parquet',storage_options={'anon':True})\n",
    "dataset = dataset.dropna()"
   ]
  },
  {
   "cell_type": "code",
   "execution_count": 7,
   "metadata": {},
   "outputs": [
    {
     "data": {
      "text/html": [
       "<div><strong>Dask DataFrame Structure:</strong></div>\n",
       "<div>\n",
       "<style scoped>\n",
       "    .dataframe tbody tr th:only-of-type {\n",
       "        vertical-align: middle;\n",
       "    }\n",
       "\n",
       "    .dataframe tbody tr th {\n",
       "        vertical-align: top;\n",
       "    }\n",
       "\n",
       "    .dataframe thead th {\n",
       "        text-align: right;\n",
       "    }\n",
       "</style>\n",
       "<table border=\"1\" class=\"dataframe\">\n",
       "  <thead>\n",
       "    <tr style=\"text-align: right;\">\n",
       "      <th></th>\n",
       "      <th>Year</th>\n",
       "      <th>Quarter</th>\n",
       "      <th>Month</th>\n",
       "      <th>DayOfWeek</th>\n",
       "      <th>DOT_ID_Reporting_Airline</th>\n",
       "      <th>Flight_Number_Reporting_Airline</th>\n",
       "      <th>OriginCityMarketID</th>\n",
       "      <th>DestCityMarketID</th>\n",
       "      <th>DepTime</th>\n",
       "      <th>DepDelay</th>\n",
       "      <th>DepDel15</th>\n",
       "      <th>ArrTime</th>\n",
       "      <th>ArrDelay</th>\n",
       "      <th>ArrDel15</th>\n",
       "      <th>AirTime</th>\n",
       "      <th>Distance</th>\n",
       "    </tr>\n",
       "    <tr>\n",
       "      <th>npartitions=121</th>\n",
       "      <th></th>\n",
       "      <th></th>\n",
       "      <th></th>\n",
       "      <th></th>\n",
       "      <th></th>\n",
       "      <th></th>\n",
       "      <th></th>\n",
       "      <th></th>\n",
       "      <th></th>\n",
       "      <th></th>\n",
       "      <th></th>\n",
       "      <th></th>\n",
       "      <th></th>\n",
       "      <th></th>\n",
       "      <th></th>\n",
       "      <th></th>\n",
       "    </tr>\n",
       "  </thead>\n",
       "  <tbody>\n",
       "    <tr>\n",
       "      <th></th>\n",
       "      <td>float32</td>\n",
       "      <td>float32</td>\n",
       "      <td>float32</td>\n",
       "      <td>float32</td>\n",
       "      <td>float32</td>\n",
       "      <td>float32</td>\n",
       "      <td>float32</td>\n",
       "      <td>float32</td>\n",
       "      <td>float32</td>\n",
       "      <td>float32</td>\n",
       "      <td>int32</td>\n",
       "      <td>float32</td>\n",
       "      <td>float32</td>\n",
       "      <td>int32</td>\n",
       "      <td>float32</td>\n",
       "      <td>float32</td>\n",
       "    </tr>\n",
       "    <tr>\n",
       "      <th></th>\n",
       "      <td>...</td>\n",
       "      <td>...</td>\n",
       "      <td>...</td>\n",
       "      <td>...</td>\n",
       "      <td>...</td>\n",
       "      <td>...</td>\n",
       "      <td>...</td>\n",
       "      <td>...</td>\n",
       "      <td>...</td>\n",
       "      <td>...</td>\n",
       "      <td>...</td>\n",
       "      <td>...</td>\n",
       "      <td>...</td>\n",
       "      <td>...</td>\n",
       "      <td>...</td>\n",
       "      <td>...</td>\n",
       "    </tr>\n",
       "    <tr>\n",
       "      <th>...</th>\n",
       "      <td>...</td>\n",
       "      <td>...</td>\n",
       "      <td>...</td>\n",
       "      <td>...</td>\n",
       "      <td>...</td>\n",
       "      <td>...</td>\n",
       "      <td>...</td>\n",
       "      <td>...</td>\n",
       "      <td>...</td>\n",
       "      <td>...</td>\n",
       "      <td>...</td>\n",
       "      <td>...</td>\n",
       "      <td>...</td>\n",
       "      <td>...</td>\n",
       "      <td>...</td>\n",
       "      <td>...</td>\n",
       "    </tr>\n",
       "    <tr>\n",
       "      <th></th>\n",
       "      <td>...</td>\n",
       "      <td>...</td>\n",
       "      <td>...</td>\n",
       "      <td>...</td>\n",
       "      <td>...</td>\n",
       "      <td>...</td>\n",
       "      <td>...</td>\n",
       "      <td>...</td>\n",
       "      <td>...</td>\n",
       "      <td>...</td>\n",
       "      <td>...</td>\n",
       "      <td>...</td>\n",
       "      <td>...</td>\n",
       "      <td>...</td>\n",
       "      <td>...</td>\n",
       "      <td>...</td>\n",
       "    </tr>\n",
       "    <tr>\n",
       "      <th></th>\n",
       "      <td>...</td>\n",
       "      <td>...</td>\n",
       "      <td>...</td>\n",
       "      <td>...</td>\n",
       "      <td>...</td>\n",
       "      <td>...</td>\n",
       "      <td>...</td>\n",
       "      <td>...</td>\n",
       "      <td>...</td>\n",
       "      <td>...</td>\n",
       "      <td>...</td>\n",
       "      <td>...</td>\n",
       "      <td>...</td>\n",
       "      <td>...</td>\n",
       "      <td>...</td>\n",
       "      <td>...</td>\n",
       "    </tr>\n",
       "  </tbody>\n",
       "</table>\n",
       "</div>\n",
       "<div>Dask Name: dropna, 242 tasks</div>"
      ],
      "text/plain": [
       "<dask_cudf.DataFrame | 242 tasks | 121 npartitions>"
      ]
     },
     "metadata": {},
     "output_type": "display_data"
    },
    {
     "name": "stdout",
     "output_type": "stream",
     "text": [
      "62992062\n"
     ]
    }
   ],
   "source": [
    "display(dataset)\n",
    "print(len(dataset))"
   ]
  },
  {
   "cell_type": "code",
   "execution_count": 8,
   "metadata": {},
   "outputs": [],
   "source": [
    "# split [ always runs, regardless of whether dataset is cached ]\n",
    "train, test = train_test_split( dataset, random_state = 42 ) "
   ]
  },
  {
   "cell_type": "code",
   "execution_count": 9,
   "metadata": {},
   "outputs": [],
   "source": [
    "# build X [ features ], y [ labels ] for the train and test subsets\n",
    "label_column = 'ArrDel15'\n",
    "y_train = train[label_column]; \n",
    "X_train = train.drop(label_column, axis = 1)\n",
    "y_test = test[label_column]\n",
    "X_test = test.drop(label_column, axis = 1)"
   ]
  },
  {
   "cell_type": "code",
   "execution_count": 10,
   "metadata": {
    "scrolled": true
   },
   "outputs": [
    {
     "name": "stdout",
     "output_type": "stream",
     "text": [
      "CPU times: user 493 ms, sys: 33.3 ms, total: 527 ms\n",
      "Wall time: 2.83 s\n"
     ]
    },
    {
     "data": {
      "text/plain": [
       "DoneAndNotDoneFutures(done={<Future: finished, type: cudf.DataFrame, key: ('drop_by_shallow_copy-2e45b2ae6b31921eb9fc2fb2e4ff1f8f', 6)>, <Future: finished, type: cudf.DataFrame, key: ('drop_by_shallow_copy-e52226113ed9ecf81da80a6e5fe69283', 17)>, <Future: finished, type: cudf.DataFrame, key: ('drop_by_shallow_copy-e52226113ed9ecf81da80a6e5fe69283', 80)>, <Future: finished, type: cudf.DataFrame, key: ('drop_by_shallow_copy-2e45b2ae6b31921eb9fc2fb2e4ff1f8f', 69)>, <Future: finished, type: cudf.DataFrame, key: ('drop_by_shallow_copy-e52226113ed9ecf81da80a6e5fe69283', 95)>, <Future: finished, type: cudf.Series, key: ('getitem-6d1cb3c598cd566331dd682f473cc534', 101)>, <Future: finished, type: cudf.Series, key: ('getitem-6d1cb3c598cd566331dd682f473cc534', 82)>, <Future: finished, type: cudf.Series, key: ('getitem-d60bdf70c9f37c4da4c76120df3f21c2', 31)>, <Future: finished, type: cudf.DataFrame, key: ('drop_by_shallow_copy-2e45b2ae6b31921eb9fc2fb2e4ff1f8f', 57)>, <Future: finished, type: cudf.DataFrame, key: ('drop_by_shallow_copy-2e45b2ae6b31921eb9fc2fb2e4ff1f8f', 86)>, <Future: finished, type: cudf.Series, key: ('getitem-6d1cb3c598cd566331dd682f473cc534', 120)>, <Future: finished, type: cudf.DataFrame, key: ('drop_by_shallow_copy-e52226113ed9ecf81da80a6e5fe69283', 28)>, <Future: finished, type: cudf.Series, key: ('getitem-6d1cb3c598cd566331dd682f473cc534', 72)>, <Future: finished, type: cudf.DataFrame, key: ('drop_by_shallow_copy-e52226113ed9ecf81da80a6e5fe69283', 111)>, <Future: finished, type: cudf.Series, key: ('getitem-6d1cb3c598cd566331dd682f473cc534', 97)>, <Future: finished, type: cudf.Series, key: ('getitem-d60bdf70c9f37c4da4c76120df3f21c2', 18)>, <Future: finished, type: cudf.Series, key: ('getitem-d60bdf70c9f37c4da4c76120df3f21c2', 79)>, <Future: finished, type: cudf.DataFrame, key: ('drop_by_shallow_copy-e52226113ed9ecf81da80a6e5fe69283', 69)>, <Future: finished, type: cudf.DataFrame, key: ('drop_by_shallow_copy-e52226113ed9ecf81da80a6e5fe69283', 65)>, <Future: finished, type: cudf.DataFrame, key: ('drop_by_shallow_copy-e52226113ed9ecf81da80a6e5fe69283', 24)>, <Future: finished, type: cudf.DataFrame, key: ('drop_by_shallow_copy-2e45b2ae6b31921eb9fc2fb2e4ff1f8f', 44)>, <Future: finished, type: cudf.Series, key: ('getitem-d60bdf70c9f37c4da4c76120df3f21c2', 60)>, <Future: finished, type: cudf.Series, key: ('getitem-6d1cb3c598cd566331dd682f473cc534', 91)>, <Future: finished, type: cudf.Series, key: ('getitem-d60bdf70c9f37c4da4c76120df3f21c2', 67)>, <Future: finished, type: cudf.DataFrame, key: ('drop_by_shallow_copy-e52226113ed9ecf81da80a6e5fe69283', 87)>, <Future: finished, type: cudf.DataFrame, key: ('drop_by_shallow_copy-e52226113ed9ecf81da80a6e5fe69283', 118)>, <Future: finished, type: cudf.Series, key: ('getitem-d60bdf70c9f37c4da4c76120df3f21c2', 37)>, <Future: finished, type: cudf.DataFrame, key: ('drop_by_shallow_copy-2e45b2ae6b31921eb9fc2fb2e4ff1f8f', 73)>, <Future: finished, type: cudf.DataFrame, key: ('drop_by_shallow_copy-2e45b2ae6b31921eb9fc2fb2e4ff1f8f', 95)>, <Future: finished, type: cudf.Series, key: ('getitem-6d1cb3c598cd566331dd682f473cc534', 110)>, <Future: finished, type: cudf.Series, key: ('getitem-d60bdf70c9f37c4da4c76120df3f21c2', 75)>, <Future: finished, type: cudf.Series, key: ('getitem-d60bdf70c9f37c4da4c76120df3f21c2', 56)>, <Future: finished, type: cudf.DataFrame, key: ('drop_by_shallow_copy-e52226113ed9ecf81da80a6e5fe69283', 107)>, <Future: finished, type: cudf.DataFrame, key: ('drop_by_shallow_copy-e52226113ed9ecf81da80a6e5fe69283', 76)>, <Future: finished, type: cudf.DataFrame, key: ('drop_by_shallow_copy-2e45b2ae6b31921eb9fc2fb2e4ff1f8f', 82)>, <Future: finished, type: cudf.Series, key: ('getitem-6d1cb3c598cd566331dd682f473cc534', 102)>, <Future: finished, type: cudf.DataFrame, key: ('drop_by_shallow_copy-e52226113ed9ecf81da80a6e5fe69283', 6)>, <Future: finished, type: cudf.Series, key: ('getitem-d60bdf70c9f37c4da4c76120df3f21c2', 23)>, <Future: finished, type: cudf.DataFrame, key: ('drop_by_shallow_copy-e52226113ed9ecf81da80a6e5fe69283', 110)>, <Future: finished, type: cudf.Series, key: ('getitem-6d1cb3c598cd566331dd682f473cc534', 7)>, <Future: finished, type: cudf.DataFrame, key: ('drop_by_shallow_copy-2e45b2ae6b31921eb9fc2fb2e4ff1f8f', 120)>, <Future: finished, type: cudf.Series, key: ('getitem-d60bdf70c9f37c4da4c76120df3f21c2', 48)>, <Future: finished, type: cudf.Series, key: ('getitem-d60bdf70c9f37c4da4c76120df3f21c2', 42)>, <Future: finished, type: cudf.DataFrame, key: ('drop_by_shallow_copy-e52226113ed9ecf81da80a6e5fe69283', 13)>, <Future: finished, type: cudf.Series, key: ('getitem-d60bdf70c9f37c4da4c76120df3f21c2', 94)>, <Future: finished, type: cudf.Series, key: ('getitem-6d1cb3c598cd566331dd682f473cc534', 77)>, <Future: finished, type: cudf.DataFrame, key: ('drop_by_shallow_copy-e52226113ed9ecf81da80a6e5fe69283', 99)>, <Future: finished, type: cudf.Series, key: ('getitem-6d1cb3c598cd566331dd682f473cc534', 64)>, <Future: finished, type: cudf.Series, key: ('getitem-d60bdf70c9f37c4da4c76120df3f21c2', 61)>, <Future: finished, type: cudf.DataFrame, key: ('drop_by_shallow_copy-e52226113ed9ecf81da80a6e5fe69283', 68)>, <Future: finished, type: cudf.Series, key: ('getitem-6d1cb3c598cd566331dd682f473cc534', 76)>, <Future: finished, type: cudf.Series, key: ('getitem-6d1cb3c598cd566331dd682f473cc534', 12)>, <Future: finished, type: cudf.Series, key: ('getitem-d60bdf70c9f37c4da4c76120df3f21c2', 4)>, <Future: finished, type: cudf.DataFrame, key: ('drop_by_shallow_copy-2e45b2ae6b31921eb9fc2fb2e4ff1f8f', 49)>, <Future: finished, type: cudf.DataFrame, key: ('drop_by_shallow_copy-2e45b2ae6b31921eb9fc2fb2e4ff1f8f', 87)>, <Future: finished, type: cudf.DataFrame, key: ('drop_by_shallow_copy-2e45b2ae6b31921eb9fc2fb2e4ff1f8f', 48)>, <Future: finished, type: cudf.DataFrame, key: ('drop_by_shallow_copy-2e45b2ae6b31921eb9fc2fb2e4ff1f8f', 74)>, <Future: finished, type: cudf.Series, key: ('getitem-6d1cb3c598cd566331dd682f473cc534', 95)>, <Future: finished, type: cudf.Series, key: ('getitem-6d1cb3c598cd566331dd682f473cc534', 116)>, <Future: finished, type: cudf.DataFrame, key: ('drop_by_shallow_copy-2e45b2ae6b31921eb9fc2fb2e4ff1f8f', 36)>, <Future: finished, type: cudf.DataFrame, key: ('drop_by_shallow_copy-2e45b2ae6b31921eb9fc2fb2e4ff1f8f', 62)>, <Future: finished, type: cudf.DataFrame, key: ('drop_by_shallow_copy-e52226113ed9ecf81da80a6e5fe69283', 16)>, <Future: finished, type: cudf.Series, key: ('getitem-d60bdf70c9f37c4da4c76120df3f21c2', 41)>, <Future: finished, type: cudf.Series, key: ('getitem-6d1cb3c598cd566331dd682f473cc534', 83)>, <Future: finished, type: cudf.DataFrame, key: ('drop_by_shallow_copy-2e45b2ae6b31921eb9fc2fb2e4ff1f8f', 61)>, <Future: finished, type: cudf.Series, key: ('getitem-d60bdf70c9f37c4da4c76120df3f21c2', 22)>, <Future: finished, type: cudf.Series, key: ('getitem-d60bdf70c9f37c4da4c76120df3f21c2', 3)>, <Future: finished, type: cudf.DataFrame, key: ('drop_by_shallow_copy-2e45b2ae6b31921eb9fc2fb2e4ff1f8f', 11)>, <Future: finished, type: cudf.DataFrame, key: ('drop_by_shallow_copy-e52226113ed9ecf81da80a6e5fe69283', 29)>, <Future: finished, type: cudf.DataFrame, key: ('drop_by_shallow_copy-e52226113ed9ecf81da80a6e5fe69283', 90)>, <Future: finished, type: cudf.Series, key: ('getitem-6d1cb3c598cd566331dd682f473cc534', 88)>, <Future: finished, type: cudf.Series, key: ('getitem-6d1cb3c598cd566331dd682f473cc534', 119)>, <Future: finished, type: cudf.DataFrame, key: ('drop_by_shallow_copy-2e45b2ae6b31921eb9fc2fb2e4ff1f8f', 92)>, <Future: finished, type: cudf.Series, key: ('getitem-d60bdf70c9f37c4da4c76120df3f21c2', 34)>, <Future: finished, type: cudf.Series, key: ('getitem-d60bdf70c9f37c4da4c76120df3f21c2', 97)>, <Future: finished, type: cudf.Series, key: ('getitem-6d1cb3c598cd566331dd682f473cc534', 61)>, <Future: finished, type: cudf.DataFrame, key: ('drop_by_shallow_copy-e52226113ed9ecf81da80a6e5fe69283', 61)>, <Future: finished, type: cudf.Series, key: ('getitem-d60bdf70c9f37c4da4c76120df3f21c2', 28)>, <Future: finished, type: cudf.DataFrame, key: ('drop_by_shallow_copy-e52226113ed9ecf81da80a6e5fe69283', 113)>, <Future: finished, type: cudf.Series, key: ('getitem-d60bdf70c9f37c4da4c76120df3f21c2', 91)>, <Future: finished, type: cudf.DataFrame, key: ('drop_by_shallow_copy-e52226113ed9ecf81da80a6e5fe69283', 27)>, <Future: finished, type: cudf.DataFrame, key: ('drop_by_shallow_copy-2e45b2ae6b31921eb9fc2fb2e4ff1f8f', 23)>, <Future: finished, type: cudf.Series, key: ('getitem-6d1cb3c598cd566331dd682f473cc534', 48)>, <Future: finished, type: cudf.DataFrame, key: ('drop_by_shallow_copy-2e45b2ae6b31921eb9fc2fb2e4ff1f8f', 10)>, <Future: finished, type: cudf.Series, key: ('getitem-d60bdf70c9f37c4da4c76120df3f21c2', 72)>, <Future: finished, type: cudf.Series, key: ('getitem-6d1cb3c598cd566331dd682f473cc534', 42)>, <Future: finished, type: cudf.Series, key: ('getitem-d60bdf70c9f37c4da4c76120df3f21c2', 116)>, <Future: finished, type: cudf.DataFrame, key: ('drop_by_shallow_copy-e52226113ed9ecf81da80a6e5fe69283', 39)>, <Future: finished, type: cudf.DataFrame, key: ('drop_by_shallow_copy-2e45b2ae6b31921eb9fc2fb2e4ff1f8f', 79)>, <Future: finished, type: cudf.DataFrame, key: ('drop_by_shallow_copy-2e45b2ae6b31921eb9fc2fb2e4ff1f8f', 104)>, <Future: finished, type: cudf.Series, key: ('getitem-6d1cb3c598cd566331dd682f473cc534', 23)>, <Future: finished, type: cudf.DataFrame, key: ('drop_by_shallow_copy-e52226113ed9ecf81da80a6e5fe69283', 50)>, <Future: finished, type: cudf.Series, key: ('getitem-d60bdf70c9f37c4da4c76120df3f21c2', 53)>, <Future: finished, type: cudf.DataFrame, key: ('drop_by_shallow_copy-2e45b2ae6b31921eb9fc2fb2e4ff1f8f', 117)>, <Future: finished, type: cudf.Series, key: ('getitem-6d1cb3c598cd566331dd682f473cc534', 4)>, <Future: finished, type: cudf.Series, key: ('getitem-d60bdf70c9f37c4da4c76120df3f21c2', 110)>, <Future: finished, type: cudf.DataFrame, key: ('drop_by_shallow_copy-e52226113ed9ecf81da80a6e5fe69283', 102)>, <Future: finished, type: cudf.DataFrame, key: ('drop_by_shallow_copy-2e45b2ae6b31921eb9fc2fb2e4ff1f8f', 66)>, <Future: finished, type: cudf.Series, key: ('getitem-6d1cb3c598cd566331dd682f473cc534', 113)>, <Future: finished, type: cudf.DataFrame, key: ('drop_by_shallow_copy-e52226113ed9ecf81da80a6e5fe69283', 8)>, <Future: finished, type: cudf.Series, key: ('getitem-6d1cb3c598cd566331dd682f473cc534', 107)>, <Future: finished, type: cudf.DataFrame, key: ('drop_by_shallow_copy-2e45b2ae6b31921eb9fc2fb2e4ff1f8f', 43)>, <Future: finished, type: cudf.Series, key: ('getitem-d60bdf70c9f37c4da4c76120df3f21c2', 30)>, <Future: finished, type: cudf.Series, key: ('getitem-d60bdf70c9f37c4da4c76120df3f21c2', 36)>, <Future: finished, type: cudf.Series, key: ('getitem-6d1cb3c598cd566331dd682f473cc534', 71)>, <Future: finished, type: cudf.DataFrame, key: ('drop_by_shallow_copy-e52226113ed9ecf81da80a6e5fe69283', 77)>, <Future: finished, type: cudf.DataFrame, key: ('drop_by_shallow_copy-e52226113ed9ecf81da80a6e5fe69283', 119)>, <Future: finished, type: cudf.DataFrame, key: ('drop_by_shallow_copy-2e45b2ae6b31921eb9fc2fb2e4ff1f8f', 5)>, <Future: finished, type: cudf.Series, key: ('getitem-6d1cb3c598cd566331dd682f473cc534', 90)>, <Future: finished, type: cudf.DataFrame, key: ('drop_by_shallow_copy-e52226113ed9ecf81da80a6e5fe69283', 66)>, <Future: finished, type: cudf.DataFrame, key: ('drop_by_shallow_copy-2e45b2ae6b31921eb9fc2fb2e4ff1f8f', 56)>, <Future: finished, type: cudf.Series, key: ('getitem-6d1cb3c598cd566331dd682f473cc534', 96)>, <Future: finished, type: cudf.Series, key: ('getitem-6d1cb3c598cd566331dd682f473cc534', 16)>, <Future: finished, type: cudf.DataFrame, key: ('drop_by_shallow_copy-e52226113ed9ecf81da80a6e5fe69283', 25)>, <Future: finished, type: cudf.Series, key: ('getitem-6d1cb3c598cd566331dd682f473cc534', 109)>, <Future: finished, type: cudf.DataFrame, key: ('drop_by_shallow_copy-2e45b2ae6b31921eb9fc2fb2e4ff1f8f', 68)>, <Future: finished, type: cudf.DataFrame, key: ('drop_by_shallow_copy-e52226113ed9ecf81da80a6e5fe69283', 100)>, <Future: finished, type: cudf.DataFrame, key: ('drop_by_shallow_copy-2e45b2ae6b31921eb9fc2fb2e4ff1f8f', 97)>, <Future: finished, type: cudf.Series, key: ('getitem-d60bdf70c9f37c4da4c76120df3f21c2', 74)>, <Future: finished, type: cudf.Series, key: ('getitem-d60bdf70c9f37c4da4c76120df3f21c2', 55)>, <Future: finished, type: cudf.DataFrame, key: ('drop_by_shallow_copy-e52226113ed9ecf81da80a6e5fe69283', 14)>, <Future: finished, type: cudf.Series, key: ('getitem-d60bdf70c9f37c4da4c76120df3f21c2', 93)>, <Future: finished, type: cudf.DataFrame, key: ('drop_by_shallow_copy-2e45b2ae6b31921eb9fc2fb2e4ff1f8f', 94)>, <Future: finished, type: cudf.Series, key: ('getitem-d60bdf70c9f37c4da4c76120df3f21c2', 80)>, <Future: finished, type: cudf.Series, key: ('getitem-6d1cb3c598cd566331dd682f473cc534', 115)>, <Future: finished, type: cudf.Series, key: ('getitem-6d1cb3c598cd566331dd682f473cc534', 6)>, <Future: finished, type: cudf.DataFrame, key: ('drop_by_shallow_copy-2e45b2ae6b31921eb9fc2fb2e4ff1f8f', 81)>, <Future: finished, type: cudf.DataFrame, key: ('drop_by_shallow_copy-e52226113ed9ecf81da80a6e5fe69283', 3)>, <Future: finished, type: cudf.Series, key: ('getitem-d60bdf70c9f37c4da4c76120df3f21c2', 17)>, <Future: finished, type: cudf.DataFrame, key: ('drop_by_shallow_copy-2e45b2ae6b31921eb9fc2fb2e4ff1f8f', 41)>, <Future: finished, type: cudf.DataFrame, key: ('drop_by_shallow_copy-2e45b2ae6b31921eb9fc2fb2e4ff1f8f', 119)>, <Future: finished, type: cudf.DataFrame, key: ('drop_by_shallow_copy-e52226113ed9ecf81da80a6e5fe69283', 43)>, <Future: finished, type: cudf.Series, key: ('getitem-d60bdf70c9f37c4da4c76120df3f21c2', 120)>, <Future: finished, type: cudf.Series, key: ('getitem-6d1cb3c598cd566331dd682f473cc534', 46)>, <Future: finished, type: cudf.Series, key: ('getitem-d60bdf70c9f37c4da4c76120df3f21c2', 101)>, <Future: finished, type: cudf.DataFrame, key: ('drop_by_shallow_copy-e52226113ed9ecf81da80a6e5fe69283', 54)>, <Future: finished, type: cudf.Series, key: ('getitem-6d1cb3c598cd566331dd682f473cc534', 27)>, <Future: finished, type: cudf.DataFrame, key: ('drop_by_shallow_copy-2e45b2ae6b31921eb9fc2fb2e4ff1f8f', 108)>, <Future: finished, type: cudf.DataFrame, key: ('drop_by_shallow_copy-e52226113ed9ecf81da80a6e5fe69283', 1)>, <Future: finished, type: cudf.Series, key: ('getitem-d60bdf70c9f37c4da4c76120df3f21c2', 82)>, <Future: finished, type: cudf.Series, key: ('getitem-6d1cb3c598cd566331dd682f473cc534', 8)>, <Future: finished, type: cudf.Series, key: ('getitem-6d1cb3c598cd566331dd682f473cc534', 73)>, <Future: finished, type: cudf.Series, key: ('getitem-d60bdf70c9f37c4da4c76120df3f21c2', 0)>, <Future: finished, type: cudf.Series, key: ('getitem-d60bdf70c9f37c4da4c76120df3f21c2', 13)>, <Future: finished, type: cudf.DataFrame, key: ('drop_by_shallow_copy-2e45b2ae6b31921eb9fc2fb2e4ff1f8f', 7)>, <Future: finished, type: cudf.DataFrame, key: ('drop_by_shallow_copy-e52226113ed9ecf81da80a6e5fe69283', 94)>, <Future: finished, type: cudf.DataFrame, key: ('drop_by_shallow_copy-2e45b2ae6b31921eb9fc2fb2e4ff1f8f', 24)>, <Future: finished, type: cudf.Series, key: ('getitem-d60bdf70c9f37c4da4c76120df3f21c2', 59)>, <Future: finished, type: cudf.DataFrame, key: ('drop_by_shallow_copy-2e45b2ae6b31921eb9fc2fb2e4ff1f8f', 20)>, <Future: finished, type: cudf.DataFrame, key: ('drop_by_shallow_copy-e52226113ed9ecf81da80a6e5fe69283', 83)>, <Future: finished, type: cudf.DataFrame, key: ('drop_by_shallow_copy-2e45b2ae6b31921eb9fc2fb2e4ff1f8f', 58)>, <Future: finished, type: cudf.DataFrame, key: ('drop_by_shallow_copy-e52226113ed9ecf81da80a6e5fe69283', 64)>, <Future: finished, type: cudf.Series, key: ('getitem-d60bdf70c9f37c4da4c76120df3f21c2', 38)>, <Future: finished, type: cudf.DataFrame, key: ('drop_by_shallow_copy-e52226113ed9ecf81da80a6e5fe69283', 117)>, <Future: finished, type: cudf.Series, key: ('getitem-d60bdf70c9f37c4da4c76120df3f21c2', 19)>, <Future: finished, type: cudf.DataFrame, key: ('drop_by_shallow_copy-2e45b2ae6b31921eb9fc2fb2e4ff1f8f', 45)>, <Future: finished, type: cudf.Series, key: ('getitem-6d1cb3c598cd566331dd682f473cc534', 62)>, <Future: finished, type: cudf.Series, key: ('getitem-6d1cb3c598cd566331dd682f473cc534', 92)>, <Future: finished, type: cudf.DataFrame, key: ('drop_by_shallow_copy-2e45b2ae6b31921eb9fc2fb2e4ff1f8f', 76)>, <Future: finished, type: cudf.Series, key: ('getitem-6d1cb3c598cd566331dd682f473cc534', 117)>, <Future: finished, type: cudf.DataFrame, key: ('drop_by_shallow_copy-e52226113ed9ecf81da80a6e5fe69283', 12)>, <Future: finished, type: cudf.Series, key: ('getitem-d60bdf70c9f37c4da4c76120df3f21c2', 95)>, <Future: finished, type: cudf.Series, key: ('getitem-d60bdf70c9f37c4da4c76120df3f21c2', 76)>, <Future: finished, type: cudf.Series, key: ('getitem-6d1cb3c598cd566331dd682f473cc534', 98)>, <Future: finished, type: cudf.DataFrame, key: ('drop_by_shallow_copy-2e45b2ae6b31921eb9fc2fb2e4ff1f8f', 83)>, <Future: finished, type: cudf.Series, key: ('getitem-6d1cb3c598cd566331dd682f473cc534', 49)>, <Future: finished, type: cudf.Series, key: ('getitem-6d1cb3c598cd566331dd682f473cc534', 111)>, <Future: finished, type: cudf.Series, key: ('getitem-6d1cb3c598cd566331dd682f473cc534', 33)>, <Future: finished, type: cudf.DataFrame, key: ('drop_by_shallow_copy-2e45b2ae6b31921eb9fc2fb2e4ff1f8f', 32)>, <Future: finished, type: cudf.DataFrame, key: ('drop_by_shallow_copy-e52226113ed9ecf81da80a6e5fe69283', 106)>, <Future: finished, type: cudf.Series, key: ('getitem-d60bdf70c9f37c4da4c76120df3f21c2', 57)>, <Future: finished, type: cudf.Series, key: ('getitem-d60bdf70c9f37c4da4c76120df3f21c2', 107)>, <Future: finished, type: cudf.DataFrame, key: ('drop_by_shallow_copy-e52226113ed9ecf81da80a6e5fe69283', 56)>, <Future: finished, type: cudf.Series, key: ('getitem-6d1cb3c598cd566331dd682f473cc534', 58)>, <Future: finished, type: cudf.DataFrame, key: ('drop_by_shallow_copy-e52226113ed9ecf81da80a6e5fe69283', 45)>, <Future: finished, type: cudf.Series, key: ('getitem-6d1cb3c598cd566331dd682f473cc534', 39)>, <Future: finished, type: cudf.DataFrame, key: ('drop_by_shallow_copy-2e45b2ae6b31921eb9fc2fb2e4ff1f8f', 101)>, <Future: finished, type: cudf.Series, key: ('getitem-6d1cb3c598cd566331dd682f473cc534', 20)>, <Future: finished, type: cudf.Series, key: ('getitem-6d1cb3c598cd566331dd682f473cc534', 1)>, <Future: finished, type: cudf.Series, key: ('getitem-d60bdf70c9f37c4da4c76120df3f21c2', 69)>, <Future: finished, type: cudf.Series, key: ('getitem-d60bdf70c9f37c4da4c76120df3f21c2', 88)>, <Future: finished, type: cudf.DataFrame, key: ('drop_by_shallow_copy-2e45b2ae6b31921eb9fc2fb2e4ff1f8f', 114)>, <Future: finished, type: cudf.DataFrame, key: ('drop_by_shallow_copy-e52226113ed9ecf81da80a6e5fe69283', 34)>, <Future: finished, type: cudf.DataFrame, key: ('drop_by_shallow_copy-e52226113ed9ecf81da80a6e5fe69283', 11)>, <Future: finished, type: cudf.DataFrame, key: ('drop_by_shallow_copy-e52226113ed9ecf81da80a6e5fe69283', 31)>, <Future: finished, type: cudf.Series, key: ('getitem-d60bdf70c9f37c4da4c76120df3f21c2', 64)>, <Future: finished, type: cudf.Series, key: ('getitem-6d1cb3c598cd566331dd682f473cc534', 14)>, <Future: finished, type: cudf.Series, key: ('getitem-d60bdf70c9f37c4da4c76120df3f21c2', 113)>, <Future: finished, type: cudf.DataFrame, key: ('drop_by_shallow_copy-e52226113ed9ecf81da80a6e5fe69283', 22)>, <Future: finished, type: cudf.DataFrame, key: ('drop_by_shallow_copy-2e45b2ae6b31921eb9fc2fb2e4ff1f8f', 70)>, <Future: finished, type: cudf.Series, key: ('getitem-6d1cb3c598cd566331dd682f473cc534', 81)>, <Future: finished, type: cudf.Series, key: ('getitem-d60bdf70c9f37c4da4c76120df3f21c2', 104)>, <Future: finished, type: cudf.DataFrame, key: ('drop_by_shallow_copy-e52226113ed9ecf81da80a6e5fe69283', 104)>, <Future: finished, type: cudf.Series, key: ('getitem-6d1cb3c598cd566331dd682f473cc534', 69)>, <Future: finished, type: cudf.DataFrame, key: ('drop_by_shallow_copy-2e45b2ae6b31921eb9fc2fb2e4ff1f8f', 85)>, <Future: finished, type: cudf.DataFrame, key: ('drop_by_shallow_copy-2e45b2ae6b31921eb9fc2fb2e4ff1f8f', 111)>, <Future: finished, type: cudf.Series, key: ('getitem-6d1cb3c598cd566331dd682f473cc534', 100)>, <Future: finished, type: cudf.DataFrame, key: ('drop_by_shallow_copy-e52226113ed9ecf81da80a6e5fe69283', 59)>, <Future: finished, type: cudf.DataFrame, key: ('drop_by_shallow_copy-e52226113ed9ecf81da80a6e5fe69283', 78)>, <Future: finished, type: cudf.Series, key: ('getitem-6d1cb3c598cd566331dd682f473cc534', 30)>, <Future: finished, type: cudf.DataFrame, key: ('drop_by_shallow_copy-e52226113ed9ecf81da80a6e5fe69283', 89)>, <Future: finished, type: cudf.Series, key: ('getitem-d60bdf70c9f37c4da4c76120df3f21c2', 10)>, <Future: finished, type: cudf.DataFrame, key: ('drop_by_shallow_copy-2e45b2ae6b31921eb9fc2fb2e4ff1f8f', 98)>, <Future: finished, type: cudf.DataFrame, key: ('drop_by_shallow_copy-2e45b2ae6b31921eb9fc2fb2e4ff1f8f', 4)>, <Future: finished, type: cudf.DataFrame, key: ('drop_by_shallow_copy-e52226113ed9ecf81da80a6e5fe69283', 40)>, <Future: finished, type: cudf.Series, key: ('getitem-6d1cb3c598cd566331dd682f473cc534', 17)>, <Future: finished, type: cudf.Series, key: ('getitem-6d1cb3c598cd566331dd682f473cc534', 37)>, <Future: finished, type: cudf.DataFrame, key: ('drop_by_shallow_copy-2e45b2ae6b31921eb9fc2fb2e4ff1f8f', 30)>, <Future: finished, type: cudf.Series, key: ('getitem-6d1cb3c598cd566331dd682f473cc534', 18)>, <Future: finished, type: cudf.Series, key: ('getitem-6d1cb3c598cd566331dd682f473cc534', 36)>, <Future: finished, type: cudf.Series, key: ('getitem-d60bdf70c9f37c4da4c76120df3f21c2', 105)>, <Future: finished, type: cudf.DataFrame, key: ('drop_by_shallow_copy-2e45b2ae6b31921eb9fc2fb2e4ff1f8f', 17)>, <Future: finished, type: cudf.Series, key: ('getitem-6d1cb3c598cd566331dd682f473cc534', 55)>, <Future: finished, type: cudf.Series, key: ('getitem-d60bdf70c9f37c4da4c76120df3f21c2', 103)>, <Future: finished, type: cudf.Series, key: ('getitem-d60bdf70c9f37c4da4c76120df3f21c2', 117)>, <Future: finished, type: cudf.DataFrame, key: ('drop_by_shallow_copy-2e45b2ae6b31921eb9fc2fb2e4ff1f8f', 55)>, <Future: finished, type: cudf.Series, key: ('getitem-d60bdf70c9f37c4da4c76120df3f21c2', 29)>, <Future: finished, type: cudf.Series, key: ('getitem-d60bdf70c9f37c4da4c76120df3f21c2', 16)>, <Future: finished, type: cudf.Series, key: ('getitem-d60bdf70c9f37c4da4c76120df3f21c2', 47)>, <Future: finished, type: cudf.Series, key: ('getitem-6d1cb3c598cd566331dd682f473cc534', 70)>, <Future: finished, type: cudf.DataFrame, key: ('drop_by_shallow_copy-e52226113ed9ecf81da80a6e5fe69283', 47)>, <Future: finished, type: cudf.DataFrame, key: ('drop_by_shallow_copy-2e45b2ae6b31921eb9fc2fb2e4ff1f8f', 42)>, <Future: finished, type: cudf.DataFrame, key: ('drop_by_shallow_copy-e52226113ed9ecf81da80a6e5fe69283', 67)>, <Future: finished, type: cudf.DataFrame, key: ('drop_by_shallow_copy-e52226113ed9ecf81da80a6e5fe69283', 112)>, <Future: finished, type: cudf.Series, key: ('getitem-6d1cb3c598cd566331dd682f473cc534', 89)>, <Future: finished, type: cudf.DataFrame, key: ('drop_by_shallow_copy-2e45b2ae6b31921eb9fc2fb2e4ff1f8f', 93)>, <Future: finished, type: cudf.DataFrame, key: ('drop_by_shallow_copy-2e45b2ae6b31921eb9fc2fb2e4ff1f8f', 110)>, <Future: finished, type: cudf.Series, key: ('getitem-d60bdf70c9f37c4da4c76120df3f21c2', 35)>, <Future: finished, type: cudf.DataFrame, key: ('drop_by_shallow_copy-e52226113ed9ecf81da80a6e5fe69283', 7)>, <Future: finished, type: cudf.Series, key: ('getitem-d60bdf70c9f37c4da4c76120df3f21c2', 54)>, <Future: finished, type: cudf.Series, key: ('getitem-6d1cb3c598cd566331dd682f473cc534', 108)>, <Future: finished, type: cudf.Series, key: ('getitem-d60bdf70c9f37c4da4c76120df3f21c2', 84)>, <Future: finished, type: cudf.DataFrame, key: ('drop_by_shallow_copy-2e45b2ae6b31921eb9fc2fb2e4ff1f8f', 80)>, <Future: finished, type: cudf.DataFrame, key: ('drop_by_shallow_copy-e52226113ed9ecf81da80a6e5fe69283', 101)>, <Future: finished, type: cudf.Series, key: ('getitem-d60bdf70c9f37c4da4c76120df3f21c2', 73)>, <Future: finished, type: cudf.DataFrame, key: ('drop_by_shallow_copy-e52226113ed9ecf81da80a6e5fe69283', 26)>, <Future: finished, type: cudf.Series, key: ('getitem-6d1cb3c598cd566331dd682f473cc534', 31)>, <Future: finished, type: cudf.Series, key: ('getitem-6d1cb3c598cd566331dd682f473cc534', 114)>, <Future: finished, type: cudf.DataFrame, key: ('drop_by_shallow_copy-2e45b2ae6b31921eb9fc2fb2e4ff1f8f', 67)>, <Future: finished, type: cudf.DataFrame, key: ('drop_by_shallow_copy-e52226113ed9ecf81da80a6e5fe69283', 15)>, <Future: finished, type: cudf.Series, key: ('getitem-6d1cb3c598cd566331dd682f473cc534', 29)>, <Future: finished, type: cudf.Series, key: ('getitem-d60bdf70c9f37c4da4c76120df3f21c2', 92)>, <Future: finished, type: cudf.Series, key: ('getitem-6d1cb3c598cd566331dd682f473cc534', 5)>, <Future: finished, type: cudf.DataFrame, key: ('drop_by_shallow_copy-e52226113ed9ecf81da80a6e5fe69283', 52)>, <Future: finished, type: cudf.DataFrame, key: ('drop_by_shallow_copy-2e45b2ae6b31921eb9fc2fb2e4ff1f8f', 118)>, <Future: finished, type: cudf.DataFrame, key: ('drop_by_shallow_copy-2e45b2ae6b31921eb9fc2fb2e4ff1f8f', 99)>, <Future: finished, type: cudf.Series, key: ('getitem-d60bdf70c9f37c4da4c76120df3f21c2', 111)>, <Future: finished, type: cudf.DataFrame, key: ('drop_by_shallow_copy-e52226113ed9ecf81da80a6e5fe69283', 60)>, <Future: finished, type: cudf.DataFrame, key: ('drop_by_shallow_copy-2e45b2ae6b31921eb9fc2fb2e4ff1f8f', 112)>, <Future: finished, type: cudf.Series, key: ('getitem-6d1cb3c598cd566331dd682f473cc534', 24)>, <Future: finished, type: cudf.DataFrame, key: ('drop_by_shallow_copy-2e45b2ae6b31921eb9fc2fb2e4ff1f8f', 105)>, <Future: finished, type: cudf.DataFrame, key: ('drop_by_shallow_copy-e52226113ed9ecf81da80a6e5fe69283', 49)>, <Future: finished, type: cudf.DataFrame, key: ('drop_by_shallow_copy-e52226113ed9ecf81da80a6e5fe69283', 18)>, <Future: finished, type: cudf.Series, key: ('getitem-d60bdf70c9f37c4da4c76120df3f21c2', 98)>, <Future: finished, type: cudf.DataFrame, key: ('drop_by_shallow_copy-e52226113ed9ecf81da80a6e5fe69283', 38)>, <Future: finished, type: cudf.Series, key: ('getitem-6d1cb3c598cd566331dd682f473cc534', 10)>, <Future: finished, type: cudf.Series, key: ('getitem-d60bdf70c9f37c4da4c76120df3f21c2', 86)>, <Future: finished, type: cudf.Series, key: ('getitem-6d1cb3c598cd566331dd682f473cc534', 43)>, <Future: finished, type: cudf.DataFrame, key: ('drop_by_shallow_copy-e52226113ed9ecf81da80a6e5fe69283', 58)>, <Future: finished, type: cudf.Series, key: ('getitem-6d1cb3c598cd566331dd682f473cc534', 9)>, <Future: finished, type: cudf.DataFrame, key: ('drop_by_shallow_copy-e52226113ed9ecf81da80a6e5fe69283', 0)>, <Future: finished, type: cudf.Series, key: ('getitem-d60bdf70c9f37c4da4c76120df3f21c2', 83)>, <Future: finished, type: cudf.DataFrame, key: ('drop_by_shallow_copy-2e45b2ae6b31921eb9fc2fb2e4ff1f8f', 109)>, <Future: finished, type: cudf.Series, key: ('getitem-6d1cb3c598cd566331dd682f473cc534', 28)>, <Future: finished, type: cudf.Series, key: ('getitem-d60bdf70c9f37c4da4c76120df3f21c2', 102)>, <Future: finished, type: cudf.DataFrame, key: ('drop_by_shallow_copy-e52226113ed9ecf81da80a6e5fe69283', 53)>, <Future: finished, type: cudf.DataFrame, key: ('drop_by_shallow_copy-2e45b2ae6b31921eb9fc2fb2e4ff1f8f', 96)>, <Future: finished, type: cudf.Series, key: ('getitem-6d1cb3c598cd566331dd682f473cc534', 47)>, <Future: finished, type: cudf.DataFrame, key: ('drop_by_shallow_copy-e52226113ed9ecf81da80a6e5fe69283', 42)>, <Future: finished, type: cudf.Series, key: ('getitem-6d1cb3c598cd566331dd682f473cc534', 34)>, <Future: finished, type: cudf.DataFrame, key: ('drop_by_shallow_copy-2e45b2ae6b31921eb9fc2fb2e4ff1f8f', 28)>, <Future: finished, type: cudf.Series, key: ('getitem-6d1cb3c598cd566331dd682f473cc534', 53)>, <Future: finished, type: cudf.DataFrame, key: ('drop_by_shallow_copy-2e45b2ae6b31921eb9fc2fb2e4ff1f8f', 15)>, <Future: finished, type: cudf.Series, key: ('getitem-d60bdf70c9f37c4da4c76120df3f21c2', 65)>, <Future: finished, type: cudf.DataFrame, key: ('drop_by_shallow_copy-e52226113ed9ecf81da80a6e5fe69283', 91)>, <Future: finished, type: cudf.Series, key: ('getitem-d60bdf70c9f37c4da4c76120df3f21c2', 8)>, <Future: finished, type: cudf.DataFrame, key: ('drop_by_shallow_copy-2e45b2ae6b31921eb9fc2fb2e4ff1f8f', 2)>, <Future: finished, type: cudf.DataFrame, key: ('drop_by_shallow_copy-2e45b2ae6b31921eb9fc2fb2e4ff1f8f', 54)>, <Future: finished, type: cudf.Series, key: ('getitem-d60bdf70c9f37c4da4c76120df3f21c2', 27)>, <Future: finished, type: cudf.DataFrame, key: ('drop_by_shallow_copy-e52226113ed9ecf81da80a6e5fe69283', 72)>, <Future: finished, type: cudf.DataFrame, key: ('drop_by_shallow_copy-2e45b2ae6b31921eb9fc2fb2e4ff1f8f', 53)>, <Future: finished, type: cudf.DataFrame, key: ('drop_by_shallow_copy-e52226113ed9ecf81da80a6e5fe69283', 79)>, <Future: finished, type: cudf.Series, key: ('getitem-6d1cb3c598cd566331dd682f473cc534', 68)>, <Future: finished, type: cudf.Series, key: ('getitem-d60bdf70c9f37c4da4c76120df3f21c2', 46)>, <Future: finished, type: cudf.DataFrame, key: ('drop_by_shallow_copy-2e45b2ae6b31921eb9fc2fb2e4ff1f8f', 40)>, <Future: finished, type: cudf.Series, key: ('getitem-6d1cb3c598cd566331dd682f473cc534', 87)>, <Future: finished, type: cudf.Series, key: ('getitem-d60bdf70c9f37c4da4c76120df3f21c2', 33)>, <Future: finished, type: cudf.DataFrame, key: ('drop_by_shallow_copy-e52226113ed9ecf81da80a6e5fe69283', 114)>, <Future: finished, type: cudf.DataFrame, key: ('drop_by_shallow_copy-2e45b2ae6b31921eb9fc2fb2e4ff1f8f', 91)>, <Future: finished, type: cudf.Series, key: ('getitem-6d1cb3c598cd566331dd682f473cc534', 106)>, <Future: finished, type: cudf.DataFrame, key: ('drop_by_shallow_copy-e52226113ed9ecf81da80a6e5fe69283', 103)>, <Future: finished, type: cudf.Series, key: ('getitem-d60bdf70c9f37c4da4c76120df3f21c2', 52)>, <Future: finished, type: cudf.DataFrame, key: ('drop_by_shallow_copy-2e45b2ae6b31921eb9fc2fb2e4ff1f8f', 78)>, <Future: finished, type: cudf.Series, key: ('getitem-d60bdf70c9f37c4da4c76120df3f21c2', 71)>, <Future: finished, type: cudf.DataFrame, key: ('drop_by_shallow_copy-e52226113ed9ecf81da80a6e5fe69283', 20)>, <Future: finished, type: cudf.DataFrame, key: ('drop_by_shallow_copy-2e45b2ae6b31921eb9fc2fb2e4ff1f8f', 65)>, <Future: finished, type: cudf.Series, key: ('getitem-6d1cb3c598cd566331dd682f473cc534', 112)>, <Future: finished, type: cudf.DataFrame, key: ('drop_by_shallow_copy-e52226113ed9ecf81da80a6e5fe69283', 9)>, <Future: finished, type: cudf.Series, key: ('getitem-d60bdf70c9f37c4da4c76120df3f21c2', 90)>, <Future: finished, type: cudf.DataFrame, key: ('drop_by_shallow_copy-2e45b2ae6b31921eb9fc2fb2e4ff1f8f', 116)>, <Future: finished, type: cudf.DataFrame, key: ('drop_by_shallow_copy-e52226113ed9ecf81da80a6e5fe69283', 109)>, <Future: finished, type: cudf.Series, key: ('getitem-6d1cb3c598cd566331dd682f473cc534', 3)>, <Future: finished, type: cudf.Series, key: ('getitem-6d1cb3c598cd566331dd682f473cc534', 54)>, <Future: finished, type: cudf.Series, key: ('getitem-d60bdf70c9f37c4da4c76120df3f21c2', 109)>, <Future: finished, type: cudf.DataFrame, key: ('drop_by_shallow_copy-e52226113ed9ecf81da80a6e5fe69283', 62)>, <Future: finished, type: cudf.DataFrame, key: ('drop_by_shallow_copy-2e45b2ae6b31921eb9fc2fb2e4ff1f8f', 31)>, <Future: finished, type: cudf.DataFrame, key: ('drop_by_shallow_copy-2e45b2ae6b31921eb9fc2fb2e4ff1f8f', 103)>, <Future: finished, type: cudf.Series, key: ('getitem-d60bdf70c9f37c4da4c76120df3f21c2', 66)>, <Future: finished, type: cudf.Series, key: ('getitem-6d1cb3c598cd566331dd682f473cc534', 11)>, <Future: finished, type: cudf.Series, key: ('getitem-6d1cb3c598cd566331dd682f473cc534', 22)>, <Future: finished, type: cudf.DataFrame, key: ('drop_by_shallow_copy-e52226113ed9ecf81da80a6e5fe69283', 51)>, <Future: finished, type: cudf.Series, key: ('getitem-d60bdf70c9f37c4da4c76120df3f21c2', 96)>, <Future: finished, type: cudf.Series, key: ('getitem-6d1cb3c598cd566331dd682f473cc534', 41)>, <Future: finished, type: cudf.Series, key: ('getitem-d60bdf70c9f37c4da4c76120df3f21c2', 85)>, <Future: finished, type: cudf.Series, key: ('getitem-d60bdf70c9f37c4da4c76120df3f21c2', 115)>, <Future: finished, type: cudf.DataFrame, key: ('drop_by_shallow_copy-e52226113ed9ecf81da80a6e5fe69283', 32)>, <Future: finished, type: cudf.Series, key: ('getitem-6d1cb3c598cd566331dd682f473cc534', 60)>, <Future: finished, type: cudf.DataFrame, key: ('drop_by_shallow_copy-2e45b2ae6b31921eb9fc2fb2e4ff1f8f', 22)>, <Future: finished, type: cudf.DataFrame, key: ('drop_by_shallow_copy-e52226113ed9ecf81da80a6e5fe69283', 92)>, <Future: finished, type: cudf.Series, key: ('getitem-d60bdf70c9f37c4da4c76120df3f21c2', 15)>, <Future: finished, type: cudf.DataFrame, key: ('drop_by_shallow_copy-2e45b2ae6b31921eb9fc2fb2e4ff1f8f', 9)>, <Future: finished, type: cudf.DataFrame, key: ('drop_by_shallow_copy-2e45b2ae6b31921eb9fc2fb2e4ff1f8f', 16)>, <Future: finished, type: cudf.Series, key: ('getitem-6d1cb3c598cd566331dd682f473cc534', 56)>, <Future: finished, type: cudf.Series, key: ('getitem-d60bdf70c9f37c4da4c76120df3f21c2', 2)>, <Future: finished, type: cudf.DataFrame, key: ('drop_by_shallow_copy-e52226113ed9ecf81da80a6e5fe69283', 81)>, <Future: finished, type: cudf.DataFrame, key: ('drop_by_shallow_copy-2e45b2ae6b31921eb9fc2fb2e4ff1f8f', 60)>, <Future: finished, type: cudf.Series, key: ('getitem-6d1cb3c598cd566331dd682f473cc534', 75)>, <Future: finished, type: cudf.DataFrame, key: ('drop_by_shallow_copy-e52226113ed9ecf81da80a6e5fe69283', 70)>, <Future: finished, type: cudf.Series, key: ('getitem-d60bdf70c9f37c4da4c76120df3f21c2', 21)>, <Future: finished, type: cudf.DataFrame, key: ('drop_by_shallow_copy-2e45b2ae6b31921eb9fc2fb2e4ff1f8f', 47)>, <Future: finished, type: cudf.Series, key: ('getitem-6d1cb3c598cd566331dd682f473cc534', 94)>, <Future: finished, type: cudf.Series, key: ('getitem-d60bdf70c9f37c4da4c76120df3f21c2', 40)>, <Future: finished, type: cudf.DataFrame, key: ('drop_by_shallow_copy-2e45b2ae6b31921eb9fc2fb2e4ff1f8f', 34)>, <Future: finished, type: cudf.DataFrame, key: ('drop_by_shallow_copy-e52226113ed9ecf81da80a6e5fe69283', 2)>, <Future: finished, type: cudf.DataFrame, key: ('drop_by_shallow_copy-e52226113ed9ecf81da80a6e5fe69283', 37)>, <Future: finished, type: cudf.Series, key: ('getitem-d60bdf70c9f37c4da4c76120df3f21c2', 87)>, <Future: finished, type: cudf.Series, key: ('getitem-6d1cb3c598cd566331dd682f473cc534', 13)>, <Future: finished, type: cudf.DataFrame, key: ('drop_by_shallow_copy-2e45b2ae6b31921eb9fc2fb2e4ff1f8f', 29)>, <Future: finished, type: cudf.Series, key: ('getitem-d60bdf70c9f37c4da4c76120df3f21c2', 81)>, <Future: finished, type: cudf.DataFrame, key: ('drop_by_shallow_copy-2e45b2ae6b31921eb9fc2fb2e4ff1f8f', 107)>, <Future: finished, type: cudf.Series, key: ('getitem-6d1cb3c598cd566331dd682f473cc534', 26)>, <Future: finished, type: cudf.Series, key: ('getitem-d60bdf70c9f37c4da4c76120df3f21c2', 62)>, <Future: finished, type: cudf.DataFrame, key: ('drop_by_shallow_copy-e52226113ed9ecf81da80a6e5fe69283', 5)>, <Future: finished, type: cudf.Series, key: ('getitem-6d1cb3c598cd566331dd682f473cc534', 0)>, <Future: finished, type: cudf.Series, key: ('getitem-d60bdf70c9f37c4da4c76120df3f21c2', 100)>, <Future: finished, type: cudf.DataFrame, key: ('drop_by_shallow_copy-e52226113ed9ecf81da80a6e5fe69283', 55)>, <Future: finished, type: cudf.Series, key: ('getitem-6d1cb3c598cd566331dd682f473cc534', 103)>, <Future: finished, type: cudf.DataFrame, key: ('drop_by_shallow_copy-2e45b2ae6b31921eb9fc2fb2e4ff1f8f', 26)>, <Future: finished, type: cudf.Series, key: ('getitem-d60bdf70c9f37c4da4c76120df3f21c2', 68)>, <Future: finished, type: cudf.DataFrame, key: ('drop_by_shallow_copy-e52226113ed9ecf81da80a6e5fe69283', 41)>, <Future: finished, type: cudf.Series, key: ('getitem-d60bdf70c9f37c4da4c76120df3f21c2', 106)>, <Future: finished, type: cudf.DataFrame, key: ('drop_by_shallow_copy-e52226113ed9ecf81da80a6e5fe69283', 36)>, <Future: finished, type: cudf.Series, key: ('getitem-6d1cb3c598cd566331dd682f473cc534', 19)>, <Future: finished, type: cudf.Series, key: ('getitem-6d1cb3c598cd566331dd682f473cc534', 35)>, <Future: finished, type: cudf.DataFrame, key: ('drop_by_shallow_copy-e52226113ed9ecf81da80a6e5fe69283', 46)>, <Future: finished, type: cudf.Series, key: ('getitem-d60bdf70c9f37c4da4c76120df3f21c2', 118)>, <Future: finished, type: cudf.DataFrame, key: ('drop_by_shallow_copy-e52226113ed9ecf81da80a6e5fe69283', 48)>, <Future: finished, type: cudf.Series, key: ('getitem-6d1cb3c598cd566331dd682f473cc534', 38)>, <Future: finished, type: cudf.Series, key: ('getitem-6d1cb3c598cd566331dd682f473cc534', 45)>, <Future: finished, type: cudf.Series, key: ('getitem-6d1cb3c598cd566331dd682f473cc534', 57)>, <Future: finished, type: cudf.Series, key: ('getitem-d60bdf70c9f37c4da4c76120df3f21c2', 112)>, <Future: finished, type: cudf.Series, key: ('getitem-6d1cb3c598cd566331dd682f473cc534', 32)>, <Future: finished, type: cudf.Series, key: ('getitem-d60bdf70c9f37c4da4c76120df3f21c2', 12)>, <Future: finished, type: cudf.Series, key: ('getitem-d60bdf70c9f37c4da4c76120df3f21c2', 119)>, <Future: finished, type: cudf.DataFrame, key: ('drop_by_shallow_copy-2e45b2ae6b31921eb9fc2fb2e4ff1f8f', 19)>, <Future: finished, type: cudf.DataFrame, key: ('drop_by_shallow_copy-2e45b2ae6b31921eb9fc2fb2e4ff1f8f', 35)>, <Future: finished, type: cudf.Series, key: ('getitem-d60bdf70c9f37c4da4c76120df3f21c2', 50)>, <Future: finished, type: cudf.Series, key: ('getitem-d60bdf70c9f37c4da4c76120df3f21c2', 99)>, <Future: finished, type: cudf.DataFrame, key: ('drop_by_shallow_copy-e52226113ed9ecf81da80a6e5fe69283', 97)>, <Future: finished, type: cudf.Series, key: ('getitem-6d1cb3c598cd566331dd682f473cc534', 25)>, <Future: finished, type: cudf.Series, key: ('getitem-6d1cb3c598cd566331dd682f473cc534', 44)>, <Future: finished, type: cudf.Series, key: ('getitem-6d1cb3c598cd566331dd682f473cc534', 104)>, <Future: finished, type: cudf.DataFrame, key: ('drop_by_shallow_copy-e52226113ed9ecf81da80a6e5fe69283', 57)>, <Future: finished, type: cudf.DataFrame, key: ('drop_by_shallow_copy-2e45b2ae6b31921eb9fc2fb2e4ff1f8f', 89)>, <Future: finished, type: cudf.DataFrame, key: ('drop_by_shallow_copy-e52226113ed9ecf81da80a6e5fe69283', 108)>, <Future: finished, type: cudf.DataFrame, key: ('drop_by_shallow_copy-2e45b2ae6b31921eb9fc2fb2e4ff1f8f', 113)>, <Future: finished, type: cudf.DataFrame, key: ('drop_by_shallow_copy-e52226113ed9ecf81da80a6e5fe69283', 4)>, <Future: finished, type: cudf.Series, key: ('getitem-d60bdf70c9f37c4da4c76120df3f21c2', 63)>, <Future: finished, type: cudf.Series, key: ('getitem-6d1cb3c598cd566331dd682f473cc534', 85)>, <Future: finished, type: cudf.DataFrame, key: ('drop_by_shallow_copy-2e45b2ae6b31921eb9fc2fb2e4ff1f8f', 100)>, <Future: finished, type: cudf.DataFrame, key: ('drop_by_shallow_copy-2e45b2ae6b31921eb9fc2fb2e4ff1f8f', 38)>, <Future: finished, type: cudf.Series, key: ('getitem-6d1cb3c598cd566331dd682f473cc534', 63)>, <Future: finished, type: cudf.Series, key: ('getitem-d60bdf70c9f37c4da4c76120df3f21c2', 44)>, <Future: finished, type: cudf.Series, key: ('getitem-6d1cb3c598cd566331dd682f473cc534', 66)>, <Future: finished, type: cudf.DataFrame, key: ('drop_by_shallow_copy-e52226113ed9ecf81da80a6e5fe69283', 35)>, <Future: finished, type: cudf.DataFrame, key: ('drop_by_shallow_copy-2e45b2ae6b31921eb9fc2fb2e4ff1f8f', 51)>, <Future: finished, type: cudf.DataFrame, key: ('drop_by_shallow_copy-e52226113ed9ecf81da80a6e5fe69283', 74)>, <Future: finished, type: cudf.DataFrame, key: ('drop_by_shallow_copy-2e45b2ae6b31921eb9fc2fb2e4ff1f8f', 25)>, <Future: finished, type: cudf.DataFrame, key: ('drop_by_shallow_copy-e52226113ed9ecf81da80a6e5fe69283', 23)>, <Future: finished, type: cudf.Series, key: ('getitem-d60bdf70c9f37c4da4c76120df3f21c2', 25)>, <Future: finished, type: cudf.Series, key: ('getitem-6d1cb3c598cd566331dd682f473cc534', 79)>, <Future: finished, type: cudf.DataFrame, key: ('drop_by_shallow_copy-2e45b2ae6b31921eb9fc2fb2e4ff1f8f', 12)>, <Future: finished, type: cudf.DataFrame, key: ('drop_by_shallow_copy-2e45b2ae6b31921eb9fc2fb2e4ff1f8f', 0)>, <Future: finished, type: cudf.DataFrame, key: ('drop_by_shallow_copy-2e45b2ae6b31921eb9fc2fb2e4ff1f8f', 75)>, <Future: finished, type: cudf.Series, key: ('getitem-d60bdf70c9f37c4da4c76120df3f21c2', 5)>, <Future: finished, type: cudf.Series, key: ('getitem-d60bdf70c9f37c4da4c76120df3f21c2', 6)>, <Future: finished, type: cudf.DataFrame, key: ('drop_by_shallow_copy-e52226113ed9ecf81da80a6e5fe69283', 85)>, <Future: finished, type: cudf.Series, key: ('getitem-d60bdf70c9f37c4da4c76120df3f21c2', 49)>, <Future: finished, type: cudf.Series, key: ('getitem-6d1cb3c598cd566331dd682f473cc534', 51)>, <Future: finished, type: cudf.DataFrame, key: ('drop_by_shallow_copy-2e45b2ae6b31921eb9fc2fb2e4ff1f8f', 106)>, <Future: finished, type: cudf.DataFrame, key: ('drop_by_shallow_copy-2e45b2ae6b31921eb9fc2fb2e4ff1f8f', 13)>, <Future: finished, type: cudf.DataFrame, key: ('drop_by_shallow_copy-2e45b2ae6b31921eb9fc2fb2e4ff1f8f', 88)>, <Future: finished, type: cudf.DataFrame, key: ('drop_by_shallow_copy-e52226113ed9ecf81da80a6e5fe69283', 98)>, <Future: finished, type: cudf.Series, key: ('getitem-6d1cb3c598cd566331dd682f473cc534', 50)>, <Future: finished, type: cudf.DataFrame, key: ('drop_by_shallow_copy-2e45b2ae6b31921eb9fc2fb2e4ff1f8f', 27)>, <Future: finished, type: cudf.Series, key: ('getitem-6d1cb3c598cd566331dd682f473cc534', 52)>, <Future: finished, type: cudf.Series, key: ('getitem-6d1cb3c598cd566331dd682f473cc534', 78)>, <Future: finished, type: cudf.DataFrame, key: ('drop_by_shallow_copy-2e45b2ae6b31921eb9fc2fb2e4ff1f8f', 14)>, <Future: finished, type: cudf.Series, key: ('getitem-d60bdf70c9f37c4da4c76120df3f21c2', 7)>, <Future: finished, type: cudf.DataFrame, key: ('drop_by_shallow_copy-e52226113ed9ecf81da80a6e5fe69283', 84)>, <Future: finished, type: cudf.DataFrame, key: ('drop_by_shallow_copy-2e45b2ae6b31921eb9fc2fb2e4ff1f8f', 1)>, <Future: finished, type: cudf.DataFrame, key: ('drop_by_shallow_copy-e52226113ed9ecf81da80a6e5fe69283', 73)>, <Future: finished, type: cudf.Series, key: ('getitem-d60bdf70c9f37c4da4c76120df3f21c2', 26)>, <Future: finished, type: cudf.Series, key: ('getitem-d60bdf70c9f37c4da4c76120df3f21c2', 78)>, <Future: finished, type: cudf.DataFrame, key: ('drop_by_shallow_copy-2e45b2ae6b31921eb9fc2fb2e4ff1f8f', 52)>, <Future: finished, type: cudf.Series, key: ('getitem-6d1cb3c598cd566331dd682f473cc534', 67)>, <Future: finished, type: cudf.DataFrame, key: ('drop_by_shallow_copy-2e45b2ae6b31921eb9fc2fb2e4ff1f8f', 63)>, <Future: finished, type: cudf.DataFrame, key: ('drop_by_shallow_copy-2e45b2ae6b31921eb9fc2fb2e4ff1f8f', 72)>, <Future: finished, type: cudf.Series, key: ('getitem-d60bdf70c9f37c4da4c76120df3f21c2', 45)>, <Future: finished, type: cudf.DataFrame, key: ('drop_by_shallow_copy-2e45b2ae6b31921eb9fc2fb2e4ff1f8f', 39)>, <Future: finished, type: cudf.Series, key: ('getitem-6d1cb3c598cd566331dd682f473cc534', 86)>, <Future: finished, type: cudf.DataFrame, key: ('drop_by_shallow_copy-e52226113ed9ecf81da80a6e5fe69283', 115)>, <Future: finished, type: cudf.Series, key: ('getitem-d60bdf70c9f37c4da4c76120df3f21c2', 32)>, <Future: finished, type: cudf.DataFrame, key: ('drop_by_shallow_copy-2e45b2ae6b31921eb9fc2fb2e4ff1f8f', 90)>, <Future: finished, type: cudf.Series, key: ('getitem-6d1cb3c598cd566331dd682f473cc534', 105)>, <Future: finished, type: cudf.Series, key: ('getitem-d60bdf70c9f37c4da4c76120df3f21c2', 51)>, <Future: finished, type: cudf.DataFrame, key: ('drop_by_shallow_copy-e52226113ed9ecf81da80a6e5fe69283', 96)>, <Future: finished, type: cudf.DataFrame, key: ('drop_by_shallow_copy-2e45b2ae6b31921eb9fc2fb2e4ff1f8f', 18)>, <Future: finished, type: cudf.DataFrame, key: ('drop_by_shallow_copy-2e45b2ae6b31921eb9fc2fb2e4ff1f8f', 77)>, <Future: finished, type: cudf.DataFrame, key: ('drop_by_shallow_copy-e52226113ed9ecf81da80a6e5fe69283', 21)>, <Future: finished, type: cudf.DataFrame, key: ('drop_by_shallow_copy-e52226113ed9ecf81da80a6e5fe69283', 86)>, <Future: finished, type: cudf.Series, key: ('getitem-d60bdf70c9f37c4da4c76120df3f21c2', 70)>, <Future: finished, type: cudf.DataFrame, key: ('drop_by_shallow_copy-2e45b2ae6b31921eb9fc2fb2e4ff1f8f', 64)>, <Future: finished, type: cudf.Series, key: ('getitem-6d1cb3c598cd566331dd682f473cc534', 15)>, <Future: finished, type: cudf.DataFrame, key: ('drop_by_shallow_copy-2e45b2ae6b31921eb9fc2fb2e4ff1f8f', 37)>, <Future: finished, type: cudf.Series, key: ('getitem-d60bdf70c9f37c4da4c76120df3f21c2', 89)>, <Future: finished, type: cudf.DataFrame, key: ('drop_by_shallow_copy-e52226113ed9ecf81da80a6e5fe69283', 10)>, <Future: finished, type: cudf.DataFrame, key: ('drop_by_shallow_copy-2e45b2ae6b31921eb9fc2fb2e4ff1f8f', 115)>, <Future: finished, type: cudf.Series, key: ('getitem-d60bdf70c9f37c4da4c76120df3f21c2', 24)>, <Future: finished, type: cudf.Series, key: ('getitem-6d1cb3c598cd566331dd682f473cc534', 2)>, <Future: finished, type: cudf.DataFrame, key: ('drop_by_shallow_copy-e52226113ed9ecf81da80a6e5fe69283', 63)>, <Future: finished, type: cudf.Series, key: ('getitem-d60bdf70c9f37c4da4c76120df3f21c2', 108)>, <Future: finished, type: cudf.DataFrame, key: ('drop_by_shallow_copy-e52226113ed9ecf81da80a6e5fe69283', 120)>, <Future: finished, type: cudf.DataFrame, key: ('drop_by_shallow_copy-2e45b2ae6b31921eb9fc2fb2e4ff1f8f', 102)>, <Future: finished, type: cudf.Series, key: ('getitem-6d1cb3c598cd566331dd682f473cc534', 21)>, <Future: finished, type: cudf.DataFrame, key: ('drop_by_shallow_copy-e52226113ed9ecf81da80a6e5fe69283', 44)>, <Future: finished, type: cudf.Series, key: ('getitem-6d1cb3c598cd566331dd682f473cc534', 40)>, <Future: finished, type: cudf.DataFrame, key: ('drop_by_shallow_copy-e52226113ed9ecf81da80a6e5fe69283', 33)>, <Future: finished, type: cudf.Series, key: ('getitem-d60bdf70c9f37c4da4c76120df3f21c2', 114)>, <Future: finished, type: cudf.Series, key: ('getitem-6d1cb3c598cd566331dd682f473cc534', 59)>, <Future: finished, type: cudf.DataFrame, key: ('drop_by_shallow_copy-2e45b2ae6b31921eb9fc2fb2e4ff1f8f', 21)>, <Future: finished, type: cudf.Series, key: ('getitem-d60bdf70c9f37c4da4c76120df3f21c2', 14)>, <Future: finished, type: cudf.DataFrame, key: ('drop_by_shallow_copy-e52226113ed9ecf81da80a6e5fe69283', 93)>, <Future: finished, type: cudf.DataFrame, key: ('drop_by_shallow_copy-2e45b2ae6b31921eb9fc2fb2e4ff1f8f', 8)>, <Future: finished, type: cudf.DataFrame, key: ('drop_by_shallow_copy-e52226113ed9ecf81da80a6e5fe69283', 82)>, <Future: finished, type: cudf.DataFrame, key: ('drop_by_shallow_copy-e52226113ed9ecf81da80a6e5fe69283', 88)>, <Future: finished, type: cudf.Series, key: ('getitem-d60bdf70c9f37c4da4c76120df3f21c2', 1)>, <Future: finished, type: cudf.DataFrame, key: ('drop_by_shallow_copy-2e45b2ae6b31921eb9fc2fb2e4ff1f8f', 59)>, <Future: finished, type: cudf.Series, key: ('getitem-6d1cb3c598cd566331dd682f473cc534', 74)>, <Future: finished, type: cudf.Series, key: ('getitem-d60bdf70c9f37c4da4c76120df3f21c2', 43)>, <Future: finished, type: cudf.Series, key: ('getitem-d60bdf70c9f37c4da4c76120df3f21c2', 20)>, <Future: finished, type: cudf.DataFrame, key: ('drop_by_shallow_copy-e52226113ed9ecf81da80a6e5fe69283', 71)>, <Future: finished, type: cudf.DataFrame, key: ('drop_by_shallow_copy-2e45b2ae6b31921eb9fc2fb2e4ff1f8f', 46)>, <Future: finished, type: cudf.DataFrame, key: ('drop_by_shallow_copy-e52226113ed9ecf81da80a6e5fe69283', 75)>, <Future: finished, type: cudf.Series, key: ('getitem-6d1cb3c598cd566331dd682f473cc534', 93)>, <Future: finished, type: cudf.DataFrame, key: ('drop_by_shallow_copy-e52226113ed9ecf81da80a6e5fe69283', 116)>, <Future: finished, type: cudf.Series, key: ('getitem-6d1cb3c598cd566331dd682f473cc534', 65)>, <Future: finished, type: cudf.DataFrame, key: ('drop_by_shallow_copy-2e45b2ae6b31921eb9fc2fb2e4ff1f8f', 50)>, <Future: finished, type: cudf.Series, key: ('getitem-d60bdf70c9f37c4da4c76120df3f21c2', 39)>, <Future: finished, type: cudf.DataFrame, key: ('drop_by_shallow_copy-2e45b2ae6b31921eb9fc2fb2e4ff1f8f', 33)>, <Future: finished, type: cudf.Series, key: ('getitem-6d1cb3c598cd566331dd682f473cc534', 80)>, <Future: finished, type: cudf.Series, key: ('getitem-6d1cb3c598cd566331dd682f473cc534', 84)>, <Future: finished, type: cudf.Series, key: ('getitem-d60bdf70c9f37c4da4c76120df3f21c2', 58)>, <Future: finished, type: cudf.DataFrame, key: ('drop_by_shallow_copy-e52226113ed9ecf81da80a6e5fe69283', 105)>, <Future: finished, type: cudf.DataFrame, key: ('drop_by_shallow_copy-2e45b2ae6b31921eb9fc2fb2e4ff1f8f', 84)>, <Future: finished, type: cudf.Series, key: ('getitem-d60bdf70c9f37c4da4c76120df3f21c2', 9)>, <Future: finished, type: cudf.Series, key: ('getitem-6d1cb3c598cd566331dd682f473cc534', 99)>, <Future: finished, type: cudf.DataFrame, key: ('drop_by_shallow_copy-e52226113ed9ecf81da80a6e5fe69283', 30)>, <Future: finished, type: cudf.Series, key: ('getitem-d60bdf70c9f37c4da4c76120df3f21c2', 11)>, <Future: finished, type: cudf.Series, key: ('getitem-d60bdf70c9f37c4da4c76120df3f21c2', 77)>, <Future: finished, type: cudf.DataFrame, key: ('drop_by_shallow_copy-2e45b2ae6b31921eb9fc2fb2e4ff1f8f', 71)>, <Future: finished, type: cudf.Series, key: ('getitem-6d1cb3c598cd566331dd682f473cc534', 118)>, <Future: finished, type: cudf.DataFrame, key: ('drop_by_shallow_copy-2e45b2ae6b31921eb9fc2fb2e4ff1f8f', 3)>, <Future: finished, type: cudf.DataFrame, key: ('drop_by_shallow_copy-e52226113ed9ecf81da80a6e5fe69283', 19)>}, not_done=set())"
      ]
     },
     "execution_count": 10,
     "metadata": {},
     "output_type": "execute_result"
    }
   ],
   "source": [
    "%%time\n",
    "X_train, y_train, X_test, y_test = persist_across_workers(client, [X_train, y_train, X_test, y_test], \n",
    "                                                          workers = worker_list)\n",
    "wait([X_train, y_train, X_test, y_test ])"
   ]
  },
  {
   "cell_type": "code",
   "execution_count": 11,
   "metadata": {},
   "outputs": [],
   "source": [
    "X_train = X_train.astype('float32')\n",
    "X_test = X_test.astype('float32')\n",
    "y_train = y_train.astype('int32')\n",
    "y_test = y_test.astype('int32')  "
   ]
  },
  {
   "cell_type": "code",
   "execution_count": 12,
   "metadata": {},
   "outputs": [
    {
     "name": "stdout",
     "output_type": "stream",
     "text": [
      "CPU times: user 1.72 s, sys: 2.42 s, total: 4.15 s\n",
      "Wall time: 38.4 s\n"
     ]
    }
   ],
   "source": [
    "%%time\n",
    "from cuml.dask.ensemble import RandomForestClassifier\n",
    "\n",
    "rf_model = RandomForestClassifier(n_estimators = 1000,\n",
    "                                   max_depth = 15,\n",
    "                                   max_features = 0.9,\n",
    "                                   n_bins = 32)\n",
    "\n",
    "trained_model = rf_model.fit( X_train, y_train )\n",
    "\n",
    "y_test = y_test.compute()\n",
    "predictions = trained_model.predict( X_test ).compute()\n",
    "test_accuracy = cuml_accuracy_score ( y_test, predictions )"
   ]
  },
  {
   "cell_type": "code",
   "execution_count": 13,
   "metadata": {},
   "outputs": [
    {
     "data": {
      "text/plain": [
       "0.9911624193191528"
      ]
     },
     "execution_count": 13,
     "metadata": {},
     "output_type": "execute_result"
    }
   ],
   "source": [
    "test_accuracy"
   ]
  },
  {
   "cell_type": "code",
   "execution_count": null,
   "metadata": {},
   "outputs": [],
   "source": []
  }
 ],
 "metadata": {
  "kernelspec": {
   "display_name": "Python 3",
   "language": "python",
   "name": "python3"
  },
  "language_info": {
   "codemirror_mode": {
    "name": "ipython",
    "version": 3
   },
   "file_extension": ".py",
   "mimetype": "text/x-python",
   "name": "python",
   "nbconvert_exporter": "python",
   "pygments_lexer": "ipython3",
   "version": "3.7.8"
  }
 },
 "nbformat": 4,
 "nbformat_minor": 4
}
