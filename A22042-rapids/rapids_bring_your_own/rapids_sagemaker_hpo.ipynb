{
 "cells": [
  {
   "cell_type": "markdown",
   "metadata": {},
   "source": [
    "With all these powerful tools at our disposal, every data scientist should feel empowered to up-level their model before serving it to the world!"
   ]
  },
  {
   "cell_type": "markdown",
   "metadata": {},
   "source": [
    "<img src='img/hpo.png'>"
   ]
  },
  {
   "cell_type": "code",
   "execution_count": 1,
   "metadata": {},
   "outputs": [],
   "source": [
    "import sagemaker\n",
    "import time\n",
    "# from helper_functions import *\n",
    "# working_directory = get_notebook_path()"
   ]
  },
  {
   "cell_type": "code",
   "execution_count": 2,
   "metadata": {},
   "outputs": [],
   "source": [
    "execution_role = sagemaker.get_execution_role()\n",
    "session = sagemaker.Session()\n",
    "\n",
    "account=!(aws sts get-caller-identity --query Account --output text)\n",
    "region=!(aws configure get region)"
   ]
  },
  {
   "cell_type": "code",
   "execution_count": 3,
   "metadata": {},
   "outputs": [],
   "source": [
    "dataset_directory = '10_year'"
   ]
  },
  {
   "cell_type": "code",
   "execution_count": 5,
   "metadata": {},
   "outputs": [],
   "source": [
    "region = ['us-west-2']\n",
    "data_bucket = 'sagemaker-rapids-hpo-' + region[0]\n",
    "s3_data_input = f\"s3://{data_bucket}/{dataset_directory}\"\n",
    "\n",
    "model_output_bucket = session.default_bucket()\n",
    "s3_model_output = f\"s3://{model_output_bucket}/trained-models\""
   ]
  },
  {
   "cell_type": "markdown",
   "metadata": {},
   "source": [
    "<span style=\"display: block; text-align: center; color:#8735fb; font-size:30pt\"> **1. ML Workflow** </span>"
   ]
  },
  {
   "cell_type": "markdown",
   "metadata": {},
   "source": [
    "<img src='img/ml_workflow.png' width='800'> "
   ]
  },
  {
   "cell_type": "markdown",
   "metadata": {},
   "source": [
    "In this demo we'll utilize the Airline dataset (Carrier On-Time Performance 1987-2020, available from the [Bureau of Transportation Statistics](https://transtats.bts.gov/Tables.asp?DB_ID=120&DB_Name=Airline%20On-Time%20Performance%20Data&DB_Short_Name=On-Time#)). \n",
    "\n",
    "The public dataset contains logs/features about flights in the United States (17 airlines) including:\n",
    "\n",
    "* Locations and distance  ( `Origin`, `Dest`, `Distance` )\n",
    "* Airline / carrier ( `Reporting_Airline` )\n",
    "* Scheduled departure and arrival times ( `CRSDepTime` and `CRSArrTime` )\n",
    "* Actual departure and arrival times ( `DpTime` and `ArrTime` )\n",
    "* Difference between scheduled & actual times ( `ArrDelay` and `DepDelay` )\n",
    "* Binary encoded version of late, aka our target variable ( `ArrDelay15` )\n",
    "\n",
    "Using these features we'll build a classifier model to predict whether a flight is going to be more than 15 minutes late on arrival as it prepares to depart."
   ]
  },
  {
   "cell_type": "markdown",
   "metadata": {},
   "source": [
    "Having built our container [ +custom logic] and pushed it to ECR, we can finally compile all of efforts into an Estimator instance."
   ]
  },
  {
   "cell_type": "markdown",
   "metadata": {},
   "source": [
    "<img src='img/run_hpo.png'>"
   ]
  },
  {
   "cell_type": "code",
   "execution_count": 16,
   "metadata": {},
   "outputs": [],
   "source": [
    "algorithm_choice = 'XGBoost'\n",
    "cv_folds = 3\n",
    "code_choice = 'singleGPU' \n",
    "search_strategy = 'Bayesian'\n",
    "max_jobs = 8\n",
    "max_parallel_jobs = 8\n",
    "max_duration_of_experiment_seconds = 60 * 60 * 24\n",
    "instance_type = 'ml.p3.2xlarge'\n",
    "\n",
    "hyperparameter_ranges = {\n",
    "    'max_depth'    : sagemaker.parameter.IntegerParameter        ( 5, 15 ),\n",
    "    'num_boost_round' : sagemaker.parameter.IntegerParameter        ( 100, 500 ),\n",
    "    'max_features' : sagemaker.parameter.ContinuousParameter     ( 0.1, 1.0 ),    \n",
    "} \n",
    "\n",
    "estimator_params = {\n",
    "    'image_uri' : '453691756499.dkr.ecr.us-west-2.amazonaws.com/rapids-sagemaker:0.14-cuda10.1-runtime-ubuntu18.04-py3.7',\n",
    "    \n",
    "    'instance_type' : instance_type,\n",
    "    'instance_count' : 1,\n",
    "    \n",
    "    'max_run'  : max_duration_of_experiment_seconds, # 24 hours \n",
    "    \n",
    "    'input_mode'  : 'File',\n",
    "    'output_path' : s3_model_output,\n",
    "    \n",
    "    'sagemaker_session' : session,\n",
    "    'role' : execution_role,\n",
    "}\n",
    "\n",
    "estimator = sagemaker.estimator.Estimator( **estimator_params)\n",
    "\n",
    "metric_definitions = [{'Name': 'final-score', 'Regex': 'final-score: (.*);'}]\n",
    "objective_metric_name = 'final-score'\n",
    "\n",
    "hpo = sagemaker.tuner.HyperparameterTuner( estimator             = estimator,\n",
    "                                           metric_definitions    = metric_definitions, \n",
    "                                           objective_metric_name = objective_metric_name,\n",
    "                                           objective_type        = 'Maximize',\n",
    "                                           hyperparameter_ranges = hyperparameter_ranges,\n",
    "                                           strategy              = search_strategy,  \n",
    "                                           max_jobs              = max_jobs,\n",
    "                                           max_parallel_jobs     = max_parallel_jobs)"
   ]
  },
  {
   "cell_type": "code",
   "execution_count": 17,
   "metadata": {},
   "outputs": [
    {
     "name": "stdout",
     "output_type": "stream",
     "text": [
      "........................................................................................................................................................!\n",
      "!\n"
     ]
    }
   ],
   "source": [
    "job_name=f'rapids-hpo-{time.strftime(\"%Y-%m-%d-%H-%M-%S\", time.gmtime())}'\n",
    "\n",
    "hpo.fit( inputs = s3_data_input, \n",
    "         job_name = job_name, \n",
    "         wait = True, logs = 'All')\n",
    "\n",
    "hpo.wait() # block until the .fit call above is completed"
   ]
  },
  {
   "cell_type": "code",
   "execution_count": 19,
   "metadata": {},
   "outputs": [
    {
     "data": {
      "text/html": [
       "<div>\n",
       "<style scoped>\n",
       "    .dataframe tbody tr th:only-of-type {\n",
       "        vertical-align: middle;\n",
       "    }\n",
       "\n",
       "    .dataframe tbody tr th {\n",
       "        vertical-align: top;\n",
       "    }\n",
       "\n",
       "    .dataframe thead th {\n",
       "        text-align: right;\n",
       "    }\n",
       "</style>\n",
       "<table border=\"1\" class=\"dataframe\">\n",
       "  <thead>\n",
       "    <tr style=\"text-align: right;\">\n",
       "      <th></th>\n",
       "      <th>max_depth</th>\n",
       "      <th>max_features</th>\n",
       "      <th>num_boost_round</th>\n",
       "      <th>TrainingJobName</th>\n",
       "      <th>TrainingJobStatus</th>\n",
       "      <th>FinalObjectiveValue</th>\n",
       "      <th>TrainingStartTime</th>\n",
       "      <th>TrainingEndTime</th>\n",
       "      <th>TrainingElapsedTimeSeconds</th>\n",
       "    </tr>\n",
       "  </thead>\n",
       "  <tbody>\n",
       "    <tr>\n",
       "      <th>0</th>\n",
       "      <td>5.0</td>\n",
       "      <td>0.301033</td>\n",
       "      <td>306.0</td>\n",
       "      <td>rapids-hpo-2020-09-29-03-58-53-008-6152948b</td>\n",
       "      <td>Completed</td>\n",
       "      <td>0.935847</td>\n",
       "      <td>2020-09-29 04:00:59+00:00</td>\n",
       "      <td>2020-09-29 04:04:38+00:00</td>\n",
       "      <td>219.0</td>\n",
       "    </tr>\n",
       "    <tr>\n",
       "      <th>1</th>\n",
       "      <td>12.0</td>\n",
       "      <td>0.379073</td>\n",
       "      <td>421.0</td>\n",
       "      <td>rapids-hpo-2020-09-29-03-58-53-007-8afc4e19</td>\n",
       "      <td>Completed</td>\n",
       "      <td>0.930685</td>\n",
       "      <td>2020-09-29 04:01:01+00:00</td>\n",
       "      <td>2020-09-29 04:07:28+00:00</td>\n",
       "      <td>387.0</td>\n",
       "    </tr>\n",
       "    <tr>\n",
       "      <th>2</th>\n",
       "      <td>8.0</td>\n",
       "      <td>0.819650</td>\n",
       "      <td>254.0</td>\n",
       "      <td>rapids-hpo-2020-09-29-03-58-53-006-8b42b56a</td>\n",
       "      <td>Completed</td>\n",
       "      <td>0.935289</td>\n",
       "      <td>2020-09-29 04:01:09+00:00</td>\n",
       "      <td>2020-09-29 04:04:57+00:00</td>\n",
       "      <td>228.0</td>\n",
       "    </tr>\n",
       "    <tr>\n",
       "      <th>3</th>\n",
       "      <td>11.0</td>\n",
       "      <td>0.744959</td>\n",
       "      <td>468.0</td>\n",
       "      <td>rapids-hpo-2020-09-29-03-58-53-005-1bb24bad</td>\n",
       "      <td>Completed</td>\n",
       "      <td>0.931334</td>\n",
       "      <td>2020-09-29 04:01:10+00:00</td>\n",
       "      <td>2020-09-29 04:06:56+00:00</td>\n",
       "      <td>346.0</td>\n",
       "    </tr>\n",
       "    <tr>\n",
       "      <th>4</th>\n",
       "      <td>9.0</td>\n",
       "      <td>0.472368</td>\n",
       "      <td>140.0</td>\n",
       "      <td>rapids-hpo-2020-09-29-03-58-53-004-1c806184</td>\n",
       "      <td>Completed</td>\n",
       "      <td>0.934814</td>\n",
       "      <td>2020-09-29 04:01:04+00:00</td>\n",
       "      <td>2020-09-29 04:04:53+00:00</td>\n",
       "      <td>229.0</td>\n",
       "    </tr>\n",
       "    <tr>\n",
       "      <th>5</th>\n",
       "      <td>14.0</td>\n",
       "      <td>0.482275</td>\n",
       "      <td>405.0</td>\n",
       "      <td>rapids-hpo-2020-09-29-03-58-53-003-f5df25a3</td>\n",
       "      <td>Completed</td>\n",
       "      <td>0.930248</td>\n",
       "      <td>2020-09-29 04:02:12+00:00</td>\n",
       "      <td>2020-09-29 04:10:21+00:00</td>\n",
       "      <td>489.0</td>\n",
       "    </tr>\n",
       "    <tr>\n",
       "      <th>6</th>\n",
       "      <td>5.0</td>\n",
       "      <td>0.397520</td>\n",
       "      <td>448.0</td>\n",
       "      <td>rapids-hpo-2020-09-29-03-58-53-002-46d3f55f</td>\n",
       "      <td>Completed</td>\n",
       "      <td>0.936355</td>\n",
       "      <td>2020-09-29 04:01:10+00:00</td>\n",
       "      <td>2020-09-29 04:04:37+00:00</td>\n",
       "      <td>207.0</td>\n",
       "    </tr>\n",
       "    <tr>\n",
       "      <th>7</th>\n",
       "      <td>13.0</td>\n",
       "      <td>0.592225</td>\n",
       "      <td>450.0</td>\n",
       "      <td>rapids-hpo-2020-09-29-03-58-53-001-03e4c956</td>\n",
       "      <td>Completed</td>\n",
       "      <td>0.930359</td>\n",
       "      <td>2020-09-29 04:01:10+00:00</td>\n",
       "      <td>2020-09-29 04:09:16+00:00</td>\n",
       "      <td>486.0</td>\n",
       "    </tr>\n",
       "  </tbody>\n",
       "</table>\n",
       "</div>"
      ],
      "text/plain": [
       "   max_depth  max_features  num_boost_round  \\\n",
       "0        5.0      0.301033            306.0   \n",
       "1       12.0      0.379073            421.0   \n",
       "2        8.0      0.819650            254.0   \n",
       "3       11.0      0.744959            468.0   \n",
       "4        9.0      0.472368            140.0   \n",
       "5       14.0      0.482275            405.0   \n",
       "6        5.0      0.397520            448.0   \n",
       "7       13.0      0.592225            450.0   \n",
       "\n",
       "                               TrainingJobName TrainingJobStatus  \\\n",
       "0  rapids-hpo-2020-09-29-03-58-53-008-6152948b         Completed   \n",
       "1  rapids-hpo-2020-09-29-03-58-53-007-8afc4e19         Completed   \n",
       "2  rapids-hpo-2020-09-29-03-58-53-006-8b42b56a         Completed   \n",
       "3  rapids-hpo-2020-09-29-03-58-53-005-1bb24bad         Completed   \n",
       "4  rapids-hpo-2020-09-29-03-58-53-004-1c806184         Completed   \n",
       "5  rapids-hpo-2020-09-29-03-58-53-003-f5df25a3         Completed   \n",
       "6  rapids-hpo-2020-09-29-03-58-53-002-46d3f55f         Completed   \n",
       "7  rapids-hpo-2020-09-29-03-58-53-001-03e4c956         Completed   \n",
       "\n",
       "   FinalObjectiveValue         TrainingStartTime           TrainingEndTime  \\\n",
       "0             0.935847 2020-09-29 04:00:59+00:00 2020-09-29 04:04:38+00:00   \n",
       "1             0.930685 2020-09-29 04:01:01+00:00 2020-09-29 04:07:28+00:00   \n",
       "2             0.935289 2020-09-29 04:01:09+00:00 2020-09-29 04:04:57+00:00   \n",
       "3             0.931334 2020-09-29 04:01:10+00:00 2020-09-29 04:06:56+00:00   \n",
       "4             0.934814 2020-09-29 04:01:04+00:00 2020-09-29 04:04:53+00:00   \n",
       "5             0.930248 2020-09-29 04:02:12+00:00 2020-09-29 04:10:21+00:00   \n",
       "6             0.936355 2020-09-29 04:01:10+00:00 2020-09-29 04:04:37+00:00   \n",
       "7             0.930359 2020-09-29 04:01:10+00:00 2020-09-29 04:09:16+00:00   \n",
       "\n",
       "   TrainingElapsedTimeSeconds  \n",
       "0                       219.0  \n",
       "1                       387.0  \n",
       "2                       228.0  \n",
       "3                       346.0  \n",
       "4                       229.0  \n",
       "5                       489.0  \n",
       "6                       207.0  \n",
       "7                       486.0  "
      ]
     },
     "execution_count": 19,
     "metadata": {},
     "output_type": "execute_result"
    }
   ],
   "source": [
    "sagemaker.HyperparameterTuningJobAnalytics('rapids-hpo-2020-09-29-03-58-53').dataframe()"
   ]
  },
  {
   "cell_type": "code",
   "execution_count": null,
   "metadata": {},
   "outputs": [],
   "source": []
  }
 ],
 "metadata": {
  "instance_type": "ml.t3.medium",
  "kernelspec": {
   "display_name": "Python 3 (Data Science)",
   "language": "python",
   "name": "python3__SAGEMAKER_INTERNAL__arn:aws:sagemaker:us-west-2:236514542706:image/datascience-1.0"
  },
  "language_info": {
   "codemirror_mode": {
    "name": "ipython",
    "version": 3
   },
   "file_extension": ".py",
   "mimetype": "text/x-python",
   "name": "python",
   "nbconvert_exporter": "python",
   "pygments_lexer": "ipython3",
   "version": "3.7.6"
  }
 },
 "nbformat": 4,
 "nbformat_minor": 4
}
