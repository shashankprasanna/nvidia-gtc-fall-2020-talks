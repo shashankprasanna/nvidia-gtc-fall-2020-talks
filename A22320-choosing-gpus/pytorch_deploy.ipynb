{
 "cells": [
  {
   "cell_type": "markdown",
   "metadata": {},
   "source": [
    "# ***DEMO: Deploy PyTorch Model to NVIDIA T4 using SageMaker and TorchServe***"
   ]
  },
  {
   "cell_type": "code",
   "execution_count": null,
   "metadata": {},
   "outputs": [],
   "source": [
    "import boto3\n",
    "import time\n",
    "import json\n",
    "from PIL import Image \n",
    "import numpy as np\n",
    "import sagemaker\n",
    "\n",
    "\n",
    "sess    = boto3.Session()\n",
    "sm      = sess.client('sagemaker')\n",
    "region  = sess.region_name\n",
    "account = boto3.client('sts').get_caller_identity().get('Account')\n",
    "role = sagemaker.get_execution_role()\n",
    "sagemaker_session = sagemaker.Session(boto_session=sess)"
   ]
  },
  {
   "cell_type": "markdown",
   "metadata": {},
   "source": [
    "## Download DenseNet161 model from PyTorch model repository"
   ]
  },
  {
   "cell_type": "code",
   "execution_count": null,
   "metadata": {},
   "outputs": [],
   "source": [
    "!wget -q https://download.pytorch.org/models/densenet161-8d451a50.pth\n",
    "!wget https://raw.githubusercontent.com/pytorch/serve/master/examples/image_classifier/densenet_161/model.py"
   ]
  },
  {
   "cell_type": "markdown",
   "metadata": {},
   "source": [
    "## Upload model and request handler file to Amazon S3"
   ]
  },
  {
   "cell_type": "code",
   "execution_count": null,
   "metadata": {},
   "outputs": [],
   "source": [
    "bucket_name = sagemaker_session.default_bucket()\n",
    "model_file_name = 'densenet161'\n",
    "prefix = 'torchserve'\n",
    "\n",
    "!mv densenet161-8d451a50.pth model.pth\n",
    "!tar cvfz {model_file_name}.tar.gz model.pth model.py\n",
    "!aws s3 cp {model_file_name}.tar.gz s3://{bucket_name}/{prefix}/models/"
   ]
  },
  {
   "cell_type": "markdown",
   "metadata": {},
   "source": [
    "## Create a PyTorch Model in Amazon SageMaker"
   ]
  },
  {
   "cell_type": "code",
   "execution_count": null,
   "metadata": {},
   "outputs": [],
   "source": [
    "from sagemaker.pytorch.model import PyTorchPredictor\n",
    "from sagemaker.predictor import Predictor\n",
    "from sagemaker.pytorch import PyTorchModel\n",
    "\n",
    "model = PyTorchModel(model_data=f's3://{bucket_name}/{prefix}/models/densenet161.tar.gz',\n",
    "                     role=role, \n",
    "                     entry_point='model.py',\n",
    "                     framework_version='1.6.0',\n",
    "                     py_version='py3',\n",
    "                     predictor_cls=PyTorchPredictor)"
   ]
  },
  {
   "cell_type": "markdown",
   "metadata": {},
   "source": [
    "## Deploy PyTorch Model to NVIDIA T4 using SageMaker model hosting\n",
    "#### Just 1 line of code!"
   ]
  },
  {
   "cell_type": "code",
   "execution_count": null,
   "metadata": {},
   "outputs": [],
   "source": [
    "%%time\n",
    "predictor = model.deploy(initial_instance_count=1, \n",
    "                         instance_type='ml.g4dn.xlarge')"
   ]
  },
  {
   "cell_type": "markdown",
   "metadata": {},
   "source": [
    "## Test model by generating predictions"
   ]
  },
  {
   "cell_type": "code",
   "execution_count": null,
   "metadata": {},
   "outputs": [],
   "source": [
    "def image_preprocess(img):\n",
    "    img = img.convert('RGB')\n",
    "    img = np.asarray(img.resize((224, 224)))\n",
    "\n",
    "    mean_vec = np.array([0.485, 0.456, 0.406])\n",
    "    stddev_vec = np.array([0.229, 0.224, 0.225])\n",
    "    img = (img/255- mean_vec)/stddev_vec\n",
    "\n",
    "    img = np.expand_dims(img, axis=0)\n",
    "    img = np.rollaxis(img, 3, 1)\n",
    "    return img.astype(dtype='float32')"
   ]
  },
  {
   "cell_type": "code",
   "execution_count": null,
   "metadata": {},
   "outputs": [],
   "source": [
    "!wget -q https://s3.amazonaws.com/model-server/inputs/kitten.jpg        \n",
    "    \n",
    "img= Image.open(\"kitten.jpg\")\n",
    "img = image_preprocess(img)\n",
    "\n",
    "response = predictor.predict(data=img)\n",
    "pred = response[0].argsort()[-5:][::-1] \n",
    "\n",
    "with open('imagenet_class_index.json', 'r') as f:\n",
    "    labels = json.load(f)\n",
    "    \n",
    "for l in pred:\n",
    "    print(labels[str(l)][1])"
   ]
  }
 ],
 "metadata": {
  "instance_type": "ml.t3.medium",
  "kernelspec": {
   "display_name": "Python 3 (Data Science)",
   "language": "python",
   "name": "python3__SAGEMAKER_INTERNAL__arn:aws:sagemaker:us-west-2:236514542706:image/datascience-1.0"
  },
  "language_info": {
   "codemirror_mode": {
    "name": "ipython",
    "version": 3
   },
   "file_extension": ".py",
   "mimetype": "text/x-python",
   "name": "python",
   "nbconvert_exporter": "python",
   "pygments_lexer": "ipython3",
   "version": "3.7.6"
  }
 },
 "nbformat": 4,
 "nbformat_minor": 4
}
